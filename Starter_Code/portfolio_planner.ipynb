{
 "cells": [
  {
   "cell_type": "code",
   "execution_count": 1,
   "metadata": {},
   "outputs": [],
   "source": [
    "import numpy as np\n",
    "import pandas as pd\n",
    "from datetime import datetime, timedelta\n",
    "import matplotlib.pyplot as plt\n",
    "%matplotlib inline"
   ]
  },
  {
   "cell_type": "code",
   "execution_count": 2,
   "metadata": {},
   "outputs": [],
   "source": [
    "np.random.seed(42)"
   ]
  },
  {
   "cell_type": "markdown",
   "metadata": {},
   "source": [
    "# Portfolio Planner\n",
    "\n",
    "In this activity, you will use the iexfinance api to grab historical data for a 60/40 portfolio using `SPY` to represent the stock portion and `AGG` to represent the bonds."
   ]
  },
  {
   "cell_type": "code",
   "execution_count": 9,
   "metadata": {},
   "outputs": [],
   "source": [
    "from iexfinance.stocks import get_historical_data\n",
    "import iexfinance as iex"
   ]
  },
  {
   "cell_type": "markdown",
   "metadata": {},
   "source": [
    "# Data Collection\n",
    "\n",
    "In this step, you will need to use the IEX api to fetch closing prices for the `SPY` and `AGG` tickers. Save the results as a pandas DataFrame"
   ]
  },
  {
   "cell_type": "code",
   "execution_count": 10,
   "metadata": {},
   "outputs": [
    {
     "data": {
      "text/html": [
       "<div>\n",
       "<style scoped>\n",
       "    .dataframe tbody tr th:only-of-type {\n",
       "        vertical-align: middle;\n",
       "    }\n",
       "\n",
       "    .dataframe tbody tr th {\n",
       "        vertical-align: top;\n",
       "    }\n",
       "\n",
       "    .dataframe thead tr th {\n",
       "        text-align: left;\n",
       "    }\n",
       "\n",
       "    .dataframe thead tr:last-of-type th {\n",
       "        text-align: right;\n",
       "    }\n",
       "</style>\n",
       "<table border=\"1\" class=\"dataframe\">\n",
       "  <thead>\n",
       "    <tr>\n",
       "      <th></th>\n",
       "      <th colspan=\"2\" halign=\"left\">SPY</th>\n",
       "      <th colspan=\"2\" halign=\"left\">AGG</th>\n",
       "    </tr>\n",
       "    <tr>\n",
       "      <th></th>\n",
       "      <th>close</th>\n",
       "      <th>volume</th>\n",
       "      <th>close</th>\n",
       "      <th>volume</th>\n",
       "    </tr>\n",
       "    <tr>\n",
       "      <th>date</th>\n",
       "      <th></th>\n",
       "      <th></th>\n",
       "      <th></th>\n",
       "      <th></th>\n",
       "    </tr>\n",
       "  </thead>\n",
       "  <tbody>\n",
       "    <tr>\n",
       "      <td>2019-01-22</td>\n",
       "      <td>262.86</td>\n",
       "      <td>115531183</td>\n",
       "      <td>106.44</td>\n",
       "      <td>6823956</td>\n",
       "    </tr>\n",
       "    <tr>\n",
       "      <td>2019-01-23</td>\n",
       "      <td>263.41</td>\n",
       "      <td>86030287</td>\n",
       "      <td>106.55</td>\n",
       "      <td>3222846</td>\n",
       "    </tr>\n",
       "    <tr>\n",
       "      <td>2019-01-24</td>\n",
       "      <td>263.55</td>\n",
       "      <td>59204139</td>\n",
       "      <td>106.73</td>\n",
       "      <td>7308898</td>\n",
       "    </tr>\n",
       "    <tr>\n",
       "      <td>2019-01-25</td>\n",
       "      <td>265.78</td>\n",
       "      <td>96883358</td>\n",
       "      <td>106.68</td>\n",
       "      <td>3469453</td>\n",
       "    </tr>\n",
       "    <tr>\n",
       "      <td>2019-01-28</td>\n",
       "      <td>263.76</td>\n",
       "      <td>85613655</td>\n",
       "      <td>106.62</td>\n",
       "      <td>7365747</td>\n",
       "    </tr>\n",
       "  </tbody>\n",
       "</table>\n",
       "</div>"
      ],
      "text/plain": [
       "               SPY                AGG         \n",
       "             close     volume   close   volume\n",
       "date                                          \n",
       "2019-01-22  262.86  115531183  106.44  6823956\n",
       "2019-01-23  263.41   86030287  106.55  3222846\n",
       "2019-01-24  263.55   59204139  106.73  7308898\n",
       "2019-01-25  265.78   96883358  106.68  3469453\n",
       "2019-01-28  263.76   85613655  106.62  7365747"
      ]
     },
     "execution_count": 10,
     "metadata": {},
     "output_type": "execute_result"
    }
   ],
   "source": [
    "list_of_tickers = [\"SPY\", \"AGG\"]\n",
    "# YOUR CODE HERE\n",
    "# Set start and end datetimes of 1 year, between now and 365 days ago.\n",
    "end_date = datetime.now()\n",
    "start_date = end_date + timedelta(-365)\n",
    "\n",
    "# Get 1 year's worth of historical data for SPY and AGG\n",
    "IEXCLOUD_df = get_historical_data(list_of_tickers, start_date, end_date, close_only=True, output_format='pandas')\n",
    "#df = get_historical_data(list_of_tickers, start_date, end_date, close_only=True, output_format='pandas')\n",
    "IEXCLOUD_df.head()"
   ]
  },
  {
   "cell_type": "code",
   "execution_count": 11,
   "metadata": {},
   "outputs": [],
   "source": [
    "#Saving the data to a csv file created with the IEXCLOUD extract, to avoid multiple IEXCLOUD requests\n",
    "IEXCLOUD_df.drop(columns=['volume'], level=1, inplace=True)\n",
    "IEXCLOUD_df.columns=[\"SPY\", \"AGG\"]\n",
    "IEXCLOUD_df.to_csv(\"../Resources/IEXCLOUD_data.csv\", encoding='utf-8')#, index=False)"
   ]
  },
  {
   "cell_type": "code",
   "execution_count": 51,
   "metadata": {},
   "outputs": [
    {
     "data": {
      "text/html": [
       "<div>\n",
       "<style scoped>\n",
       "    .dataframe tbody tr th:only-of-type {\n",
       "        vertical-align: middle;\n",
       "    }\n",
       "\n",
       "    .dataframe tbody tr th {\n",
       "        vertical-align: top;\n",
       "    }\n",
       "\n",
       "    .dataframe thead th {\n",
       "        text-align: right;\n",
       "    }\n",
       "</style>\n",
       "<table border=\"1\" class=\"dataframe\">\n",
       "  <thead>\n",
       "    <tr style=\"text-align: right;\">\n",
       "      <th></th>\n",
       "      <th>SPY</th>\n",
       "      <th>AGG</th>\n",
       "    </tr>\n",
       "    <tr>\n",
       "      <th>date</th>\n",
       "      <th></th>\n",
       "      <th></th>\n",
       "    </tr>\n",
       "  </thead>\n",
       "  <tbody>\n",
       "    <tr>\n",
       "      <td>2020-01-13</td>\n",
       "      <td>327.95</td>\n",
       "      <td>112.91</td>\n",
       "    </tr>\n",
       "    <tr>\n",
       "      <td>2020-01-14</td>\n",
       "      <td>327.45</td>\n",
       "      <td>113.01</td>\n",
       "    </tr>\n",
       "    <tr>\n",
       "      <td>2020-01-15</td>\n",
       "      <td>328.19</td>\n",
       "      <td>113.18</td>\n",
       "    </tr>\n",
       "    <tr>\n",
       "      <td>2020-01-16</td>\n",
       "      <td>330.92</td>\n",
       "      <td>113.18</td>\n",
       "    </tr>\n",
       "    <tr>\n",
       "      <td>2020-01-17</td>\n",
       "      <td>331.95</td>\n",
       "      <td>113.05</td>\n",
       "    </tr>\n",
       "  </tbody>\n",
       "</table>\n",
       "</div>"
      ],
      "text/plain": [
       "               SPY     AGG\n",
       "date                      \n",
       "2020-01-13  327.95  112.91\n",
       "2020-01-14  327.45  113.01\n",
       "2020-01-15  328.19  113.18\n",
       "2020-01-16  330.92  113.18\n",
       "2020-01-17  331.95  113.05"
      ]
     },
     "execution_count": 51,
     "metadata": {},
     "output_type": "execute_result"
    }
   ],
   "source": [
    "#Getting the data from a csv file created with the IEXCLOUD extract, to avoid multiple IEXCLOUD requests\n",
    "from pathlib import Path\n",
    "IEXCLOUD_csv = Path(\"../Resources/IEXCLOUD_data.csv\")\n",
    "IEXCLOUD_df = pd.read_csv(IEXCLOUD_csv, index_col=\"date\", parse_dates=True, infer_datetime_format=True)\n",
    "IEXCLOUD_df.tail()"
   ]
  },
  {
   "cell_type": "markdown",
   "metadata": {},
   "source": [
    "# Monte Carlo Simulation\n",
    "\n",
    "In this step, you will run Monte Carlo Simulations for your portfolio to model portfolio performance at different retirement ages. \n",
    "\n",
    "Complete the following steps:\n",
    "1. Calculate the daily returns for the SPY and AGG closing prices.\n",
    "2. Calculate volatility for both the SPY and AGG closing prices.\n",
    "3. Find the last day's closing price for both stocks and save those as variables.\n",
    "4. Run a Monte Carlo Simulation of at least 500 iterations and generate at least 30 years of closing prices\n",
    "\n",
    "### HINTS:\n",
    "There are 252 trading days per year, so the number of records to generate for each Monte Carlo run will be 252 days * 30 years"
   ]
  },
  {
   "cell_type": "code",
   "execution_count": 34,
   "metadata": {},
   "outputs": [
    {
     "data": {
      "text/html": [
       "<div>\n",
       "<style scoped>\n",
       "    .dataframe tbody tr th:only-of-type {\n",
       "        vertical-align: middle;\n",
       "    }\n",
       "\n",
       "    .dataframe tbody tr th {\n",
       "        vertical-align: top;\n",
       "    }\n",
       "\n",
       "    .dataframe thead th {\n",
       "        text-align: right;\n",
       "    }\n",
       "</style>\n",
       "<table border=\"1\" class=\"dataframe\">\n",
       "  <thead>\n",
       "    <tr style=\"text-align: right;\">\n",
       "      <th></th>\n",
       "      <th>SPY</th>\n",
       "      <th>AGG</th>\n",
       "    </tr>\n",
       "    <tr>\n",
       "      <th>date</th>\n",
       "      <th></th>\n",
       "      <th></th>\n",
       "    </tr>\n",
       "  </thead>\n",
       "  <tbody>\n",
       "    <tr>\n",
       "      <td>2019-01-22</td>\n",
       "      <td>NaN</td>\n",
       "      <td>NaN</td>\n",
       "    </tr>\n",
       "    <tr>\n",
       "      <td>2019-01-23</td>\n",
       "      <td>0.002092</td>\n",
       "      <td>0.001033</td>\n",
       "    </tr>\n",
       "    <tr>\n",
       "      <td>2019-01-24</td>\n",
       "      <td>0.000531</td>\n",
       "      <td>0.001689</td>\n",
       "    </tr>\n",
       "    <tr>\n",
       "      <td>2019-01-25</td>\n",
       "      <td>0.008461</td>\n",
       "      <td>-0.000468</td>\n",
       "    </tr>\n",
       "    <tr>\n",
       "      <td>2019-01-28</td>\n",
       "      <td>-0.007600</td>\n",
       "      <td>-0.000562</td>\n",
       "    </tr>\n",
       "  </tbody>\n",
       "</table>\n",
       "</div>"
      ],
      "text/plain": [
       "                 SPY       AGG\n",
       "date                          \n",
       "2019-01-22       NaN       NaN\n",
       "2019-01-23  0.002092  0.001033\n",
       "2019-01-24  0.000531  0.001689\n",
       "2019-01-25  0.008461 -0.000468\n",
       "2019-01-28 -0.007600 -0.000562"
      ]
     },
     "execution_count": 34,
     "metadata": {},
     "output_type": "execute_result"
    }
   ],
   "source": [
    "# Calculate the daily roi for the stocks\n",
    "# YOUR CODE HERE\n",
    "daily_returns = IEXCLOUD_df.pct_change()\n",
    "daily_returns.head()"
   ]
  },
  {
   "cell_type": "code",
   "execution_count": 61,
   "metadata": {},
   "outputs": [
    {
     "name": "stdout",
     "output_type": "stream",
     "text": [
      "Avg return SPY             Avg return AGG\n",
      "0.0009612642291769476 ---- 0.00024318932345666555\n",
      "------------------------------------------------------\n",
      "STD daily returns SPY     STD daily returns AGG\n",
      "0.007401574798510325 ---- 0.002084866830981002\n"
     ]
    }
   ],
   "source": [
    "# Calculate volatility\n",
    "# YOUR CODE HERE\n",
    "avg_daily_return_SPY = daily_returns.mean()['SPY']\n",
    "avg_daily_return_AGG = daily_returns.mean()['AGG']\n",
    "print (f\"Avg return SPY             Avg return AGG\")\n",
    "print (f\"{avg_daily_return_SPY} ---- {avg_daily_return_AGG}\")\n",
    "std_daily_return_SPY = daily_returns.std()['SPY']\n",
    "std_daily_return_AGG = daily_returns.std()['AGG']\n",
    "print (\"------------------------------------------------------\")\n",
    "print (f\"STD daily returns SPY     STD daily returns AGG\")\n",
    "print (f\"{std_daily_return_SPY} ---- {std_daily_return_AGG}\")"
   ]
  },
  {
   "cell_type": "code",
   "execution_count": 52,
   "metadata": {},
   "outputs": [
    {
     "name": "stdout",
     "output_type": "stream",
     "text": [
      "331.95 ---- 113.05\n"
     ]
    }
   ],
   "source": [
    "# Save the last day's closing price\n",
    "# YOUR CODE HERE\n",
    "SPY_last_close = IEXCLOUD_df[\"SPY\"][-1]\n",
    "AGG_last_close = IEXCLOUD_df[\"AGG\"][-1]\n",
    "print (f\"{SPY_last_close} ---- {AGG_last_close}\")"
   ]
  },
  {
   "cell_type": "code",
   "execution_count": 69,
   "metadata": {},
   "outputs": [],
   "source": [
    "# Setup the Monte Carlo Parameters\n",
    "number_simulations = 500\n",
    "number_records = 252 * 30\n",
    "monte_carlo = pd.DataFrame()"
   ]
  },
  {
   "cell_type": "code",
   "execution_count": 79,
   "metadata": {},
   "outputs": [
    {
     "data": {
      "text/plain": [
       "0    0         244.390000\n",
       "1         244.788297\n",
       "2   ...\n",
       "1    0          244.390000\n",
       "1          244.721308\n",
       "2 ...\n",
       "2    0          244.390000\n",
       "1          246.408463\n",
       "2 ...\n",
       "3    0          244.390000\n",
       "1          244.003722\n",
       "2 ...\n",
       "4    0          244.390000\n",
       "1          244.389268\n",
       "2 ...\n",
       "dtype: object"
      ]
     },
     "execution_count": 79,
     "metadata": {},
     "output_type": "execute_result"
    }
   ],
   "source": [
    "# Run the Monte Carlo Simulation\n",
    "simulated_price_df = pd.DataFrame()\n",
    "portfolio_cumulative_returns = pd.DataFrame()\n",
    "\n",
    "for x in range(number_simulations):\n",
    "    # YOUR CODE HERE\n",
    "    simulated_SPY_prices = [SPY_last_close]\n",
    "    simulated_AGG_prices = [AGG_last_close]\n",
    "    # Simulate the returns for 252 days\n",
    "    for i in range(number_records):\n",
    "        simulated_SPY_price = simulated_SPY_prices[-1] * (1 + np.random.normal(avg_daily_return_SPY, std_daily_return_SPY))\n",
    "        simulated_AGG_price = simulated_AGG_prices[-1] * (1 + np.random.normal(avg_daily_return_AGG, std_daily_return_AGG))\n",
    "        \n",
    "        # Append the simulated price to the list\n",
    "        simulated_SPY_prices.append(simulated_SPY_price)\n",
    "        simulated_AGG_prices.append(simulated_AGG_price)\n",
    "        \n",
    "    # Append a simulated prices of each simulation to DataFrame\n",
    "    simulated_price_df[\"SPY prices\"] = pd.Series(simulated_SPY_prices)\n",
    "    simulated_price_df[\"AGG prices\"] = pd.Series(simulated_AGG_prices)\n",
    "    \n",
    "    # Set the portfolio weights (60% SPY; 40% AGG)\n",
    "    weights = [0.60, 0.40]\n",
    "\n",
    "    # Use the `dot` function with the weights to multiply weights with each column's simulated daily returns\n",
    "    portfolio_daily_returns = simulated_price_df.dot(weights)\n",
    "    \n",
    "    # Calculate the normalized, cumulative return series\n",
    "    monte_carlo[x] = portfolio_daily_returns\n",
    "    \n",
    "monte_carlo.head()"
   ]
  },
  {
   "cell_type": "code",
   "execution_count": 77,
   "metadata": {},
   "outputs": [
    {
     "data": {
      "text/html": [
       "<div>\n",
       "<style scoped>\n",
       "    .dataframe tbody tr th:only-of-type {\n",
       "        vertical-align: middle;\n",
       "    }\n",
       "\n",
       "    .dataframe tbody tr th {\n",
       "        vertical-align: top;\n",
       "    }\n",
       "\n",
       "    .dataframe thead th {\n",
       "        text-align: right;\n",
       "    }\n",
       "</style>\n",
       "<table border=\"1\" class=\"dataframe\">\n",
       "  <thead>\n",
       "    <tr style=\"text-align: right;\">\n",
       "      <th></th>\n",
       "      <th>0</th>\n",
       "      <th>1</th>\n",
       "      <th>2</th>\n",
       "      <th>3</th>\n",
       "      <th>4</th>\n",
       "      <th>5</th>\n",
       "      <th>6</th>\n",
       "      <th>7</th>\n",
       "      <th>8</th>\n",
       "      <th>9</th>\n",
       "      <th>...</th>\n",
       "      <th>490</th>\n",
       "      <th>491</th>\n",
       "      <th>492</th>\n",
       "      <th>493</th>\n",
       "      <th>494</th>\n",
       "      <th>495</th>\n",
       "      <th>496</th>\n",
       "      <th>497</th>\n",
       "      <th>498</th>\n",
       "      <th>499</th>\n",
       "    </tr>\n",
       "  </thead>\n",
       "  <tbody>\n",
       "    <tr>\n",
       "      <td>7556</td>\n",
       "      <td>227463.455244</td>\n",
       "      <td>76019.018576</td>\n",
       "      <td>272907.179771</td>\n",
       "      <td>82767.590965</td>\n",
       "      <td>153580.618748</td>\n",
       "      <td>95569.534377</td>\n",
       "      <td>308772.568616</td>\n",
       "      <td>272661.497913</td>\n",
       "      <td>149190.852595</td>\n",
       "      <td>389110.071492</td>\n",
       "      <td>...</td>\n",
       "      <td>938883.027346</td>\n",
       "      <td>83814.808656</td>\n",
       "      <td>99180.169220</td>\n",
       "      <td>423559.939836</td>\n",
       "      <td>453147.659378</td>\n",
       "      <td>258710.529016</td>\n",
       "      <td>376035.780473</td>\n",
       "      <td>117618.889337</td>\n",
       "      <td>123895.937791</td>\n",
       "      <td>690728.860544</td>\n",
       "    </tr>\n",
       "    <tr>\n",
       "      <td>7557</td>\n",
       "      <td>226770.030639</td>\n",
       "      <td>75901.267717</td>\n",
       "      <td>272193.944754</td>\n",
       "      <td>83706.570210</td>\n",
       "      <td>153036.384918</td>\n",
       "      <td>95879.676626</td>\n",
       "      <td>310574.315450</td>\n",
       "      <td>271202.200180</td>\n",
       "      <td>148197.314973</td>\n",
       "      <td>391094.704697</td>\n",
       "      <td>...</td>\n",
       "      <td>947944.571342</td>\n",
       "      <td>83589.014201</td>\n",
       "      <td>100383.694762</td>\n",
       "      <td>428544.702517</td>\n",
       "      <td>447028.164747</td>\n",
       "      <td>259450.420368</td>\n",
       "      <td>373209.194696</td>\n",
       "      <td>117580.604866</td>\n",
       "      <td>122160.535610</td>\n",
       "      <td>693353.713355</td>\n",
       "    </tr>\n",
       "    <tr>\n",
       "      <td>7558</td>\n",
       "      <td>225298.430649</td>\n",
       "      <td>75951.101274</td>\n",
       "      <td>277352.962322</td>\n",
       "      <td>85144.116851</td>\n",
       "      <td>152200.109319</td>\n",
       "      <td>95825.188811</td>\n",
       "      <td>315308.121303</td>\n",
       "      <td>276132.120791</td>\n",
       "      <td>148543.891917</td>\n",
       "      <td>388022.420096</td>\n",
       "      <td>...</td>\n",
       "      <td>962358.637685</td>\n",
       "      <td>84055.818682</td>\n",
       "      <td>99110.632477</td>\n",
       "      <td>426088.412079</td>\n",
       "      <td>450949.782683</td>\n",
       "      <td>260303.836924</td>\n",
       "      <td>370088.299693</td>\n",
       "      <td>117100.704504</td>\n",
       "      <td>123485.160101</td>\n",
       "      <td>685908.689953</td>\n",
       "    </tr>\n",
       "    <tr>\n",
       "      <td>7559</td>\n",
       "      <td>225723.470274</td>\n",
       "      <td>76590.519217</td>\n",
       "      <td>275171.012647</td>\n",
       "      <td>84704.800428</td>\n",
       "      <td>152017.448641</td>\n",
       "      <td>95408.368231</td>\n",
       "      <td>318573.456009</td>\n",
       "      <td>274122.081397</td>\n",
       "      <td>149592.078237</td>\n",
       "      <td>389221.873499</td>\n",
       "      <td>...</td>\n",
       "      <td>965249.417234</td>\n",
       "      <td>85530.863304</td>\n",
       "      <td>99452.175224</td>\n",
       "      <td>421374.150695</td>\n",
       "      <td>455296.916716</td>\n",
       "      <td>259284.351820</td>\n",
       "      <td>369794.232359</td>\n",
       "      <td>119301.936368</td>\n",
       "      <td>124023.362167</td>\n",
       "      <td>688889.371767</td>\n",
       "    </tr>\n",
       "    <tr>\n",
       "      <td>7560</td>\n",
       "      <td>225989.063414</td>\n",
       "      <td>76806.618640</td>\n",
       "      <td>275784.371516</td>\n",
       "      <td>85441.501458</td>\n",
       "      <td>151686.054099</td>\n",
       "      <td>95772.177334</td>\n",
       "      <td>319932.916029</td>\n",
       "      <td>273283.222658</td>\n",
       "      <td>149990.138198</td>\n",
       "      <td>390771.082975</td>\n",
       "      <td>...</td>\n",
       "      <td>967329.878769</td>\n",
       "      <td>85046.386228</td>\n",
       "      <td>97957.529186</td>\n",
       "      <td>426392.350086</td>\n",
       "      <td>456471.993718</td>\n",
       "      <td>257534.673316</td>\n",
       "      <td>374880.891578</td>\n",
       "      <td>120199.883299</td>\n",
       "      <td>123766.242358</td>\n",
       "      <td>689806.622126</td>\n",
       "    </tr>\n",
       "  </tbody>\n",
       "</table>\n",
       "<p>5 rows × 500 columns</p>\n",
       "</div>"
      ],
      "text/plain": [
       "                0             1              2             3              4    \\\n",
       "7556  227463.455244  76019.018576  272907.179771  82767.590965  153580.618748   \n",
       "7557  226770.030639  75901.267717  272193.944754  83706.570210  153036.384918   \n",
       "7558  225298.430649  75951.101274  277352.962322  85144.116851  152200.109319   \n",
       "7559  225723.470274  76590.519217  275171.012647  84704.800428  152017.448641   \n",
       "7560  225989.063414  76806.618640  275784.371516  85441.501458  151686.054099   \n",
       "\n",
       "               5              6              7              8    \\\n",
       "7556  95569.534377  308772.568616  272661.497913  149190.852595   \n",
       "7557  95879.676626  310574.315450  271202.200180  148197.314973   \n",
       "7558  95825.188811  315308.121303  276132.120791  148543.891917   \n",
       "7559  95408.368231  318573.456009  274122.081397  149592.078237   \n",
       "7560  95772.177334  319932.916029  273283.222658  149990.138198   \n",
       "\n",
       "                9    ...            490           491            492  \\\n",
       "7556  389110.071492  ...  938883.027346  83814.808656   99180.169220   \n",
       "7557  391094.704697  ...  947944.571342  83589.014201  100383.694762   \n",
       "7558  388022.420096  ...  962358.637685  84055.818682   99110.632477   \n",
       "7559  389221.873499  ...  965249.417234  85530.863304   99452.175224   \n",
       "7560  390771.082975  ...  967329.878769  85046.386228   97957.529186   \n",
       "\n",
       "                493            494            495            496  \\\n",
       "7556  423559.939836  453147.659378  258710.529016  376035.780473   \n",
       "7557  428544.702517  447028.164747  259450.420368  373209.194696   \n",
       "7558  426088.412079  450949.782683  260303.836924  370088.299693   \n",
       "7559  421374.150695  455296.916716  259284.351820  369794.232359   \n",
       "7560  426392.350086  456471.993718  257534.673316  374880.891578   \n",
       "\n",
       "                497            498            499  \n",
       "7556  117618.889337  123895.937791  690728.860544  \n",
       "7557  117580.604866  122160.535610  693353.713355  \n",
       "7558  117100.704504  123485.160101  685908.689953  \n",
       "7559  119301.936368  124023.362167  688889.371767  \n",
       "7560  120199.883299  123766.242358  689806.622126  \n",
       "\n",
       "[5 rows x 500 columns]"
      ]
     },
     "execution_count": 77,
     "metadata": {},
     "output_type": "execute_result"
    }
   ],
   "source": [
    "portfolio_cumulative_returns.tail()"
   ]
  },
  {
   "cell_type": "code",
   "execution_count": null,
   "metadata": {},
   "outputs": [],
   "source": [
    "# Visualize the Simulation\n",
    "# YOUR CODE HERE"
   ]
  },
  {
   "cell_type": "code",
   "execution_count": 14,
   "metadata": {},
   "outputs": [],
   "source": [
    "# Select the last row for the cumulative returns (cumulative returns at 30 years)\n",
    "# YOUR CODE HERE"
   ]
  },
  {
   "cell_type": "code",
   "execution_count": null,
   "metadata": {},
   "outputs": [],
   "source": [
    "# Select the last row for the cumulative returns (cumulative returns at 20 years)\n",
    "# YOUR CODE HERE"
   ]
  },
  {
   "cell_type": "code",
   "execution_count": null,
   "metadata": {},
   "outputs": [],
   "source": [
    "# Display the 90% confidence interval for the ending returns\n",
    "# YOUR CODE HERE"
   ]
  },
  {
   "cell_type": "code",
   "execution_count": null,
   "metadata": {},
   "outputs": [],
   "source": [
    "# Visualize the distribution of the ending returns\n",
    "# YOUR CODE HERE"
   ]
  },
  {
   "cell_type": "markdown",
   "metadata": {},
   "source": [
    "---"
   ]
  },
  {
   "cell_type": "markdown",
   "metadata": {},
   "source": [
    "# Retirement Analysis\n",
    "\n",
    "In this section, you will use the monte carlo model to answer the following retirement planning questions:\n",
    "\n",
    "1. What are the expected cumulative returns at 30 years for the 10th, 50th, and 90th percentiles?\n",
    "2. Given an initial investment of `$20,000`, what is the expected portfolio return in dollars at the 10th, 50th, and 90th percentiles?\n",
    "3. Given the current projected annual income from the Plaid analysis, will a 4% withdraw rate from the retirement portfolio meet or exceed that value at the 10th percentile?\n",
    "4. How would a 50% increase in the initial investment amount affect the 4% retirement withdrawal?"
   ]
  },
  {
   "cell_type": "markdown",
   "metadata": {},
   "source": [
    "### What are the expected cumulative returns at 30 years for the 10th, 50th, and 90th percentiles?"
   ]
  },
  {
   "cell_type": "code",
   "execution_count": null,
   "metadata": {},
   "outputs": [],
   "source": [
    "# YOUR CODE HERE"
   ]
  },
  {
   "cell_type": "markdown",
   "metadata": {},
   "source": [
    "### Given an initial investment of `$20,000`, what is the expected portfolio return in dollars at the 10th, 50th, and 90th percentiles?"
   ]
  },
  {
   "cell_type": "code",
   "execution_count": null,
   "metadata": {},
   "outputs": [],
   "source": [
    "# YOUR CODE HERE"
   ]
  },
  {
   "cell_type": "markdown",
   "metadata": {},
   "source": [
    "### Given the current projected annual income from the Plaid analysis, will a 4% withdraw rate from the retirement portfolio meet or exceed that value at the 10th percentile?\n",
    "\n",
    "Note: This is effectively saying that 90% of the expected returns will be greater than the return at the 10th percentile, so this can help measure the uncertainty about having enough funds at retirement"
   ]
  },
  {
   "cell_type": "code",
   "execution_count": null,
   "metadata": {},
   "outputs": [],
   "source": [
    "# YOUR CODE HERE"
   ]
  },
  {
   "cell_type": "markdown",
   "metadata": {},
   "source": [
    "### How would a 50% increase in the initial investment amount affect the 4% retirement withdrawal?"
   ]
  },
  {
   "cell_type": "code",
   "execution_count": null,
   "metadata": {},
   "outputs": [],
   "source": [
    "# YOUR CODE HERE"
   ]
  },
  {
   "cell_type": "markdown",
   "metadata": {},
   "source": [
    "### Optional Challenge\n",
    "\n",
    "In this section, you will calculate and plot the cumulative returns for the median and 90% confidence intervals. This plot shows the expected cumulative returns for any given day between the first day and the last day of investment. "
   ]
  },
  {
   "cell_type": "code",
   "execution_count": null,
   "metadata": {},
   "outputs": [],
   "source": [
    "# YOUR CODE HERE"
   ]
  }
 ],
 "metadata": {
  "kernel_info": {
   "name": "dev"
  },
  "kernelspec": {
   "display_name": "Python 3",
   "language": "python",
   "name": "python3"
  },
  "language_info": {
   "codemirror_mode": {
    "name": "ipython",
    "version": 3
   },
   "file_extension": ".py",
   "mimetype": "text/x-python",
   "name": "python",
   "nbconvert_exporter": "python",
   "pygments_lexer": "ipython3",
   "version": "3.7.4"
  },
  "nteract": {
   "version": "0.12.3"
  }
 },
 "nbformat": 4,
 "nbformat_minor": 4
}
