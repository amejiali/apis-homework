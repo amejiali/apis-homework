{
 "cells": [
  {
   "cell_type": "code",
   "execution_count": 1,
   "metadata": {},
   "outputs": [],
   "source": [
    "import os\n",
    "import plaid\n",
    "import requests\n",
    "import datetime\n",
    "import json\n",
    "import pandas as pd\n",
    "%matplotlib inline"
   ]
  },
  {
   "cell_type": "code",
   "execution_count": 2,
   "metadata": {},
   "outputs": [],
   "source": [
    "def pretty_print_response(response):\n",
    "  print(json.dumps(response, indent=4, sort_keys=True))"
   ]
  },
  {
   "cell_type": "code",
   "execution_count": 3,
   "metadata": {},
   "outputs": [],
   "source": [
    "PLAID_CLIENT_ID = os.getenv('PLAID_CLIENT_ID')\n",
    "PLAID_SECRET = os.getenv('PLAID_SBX_SECRET_KEY')\n",
    "PLAID_PUBLIC_KEY = os.getenv('PLAID_PUBLIC_KEY')\n",
    "PLAID_ENV = os.getenv('PLAID_ENV', 'sandbox')\n",
    "PLAID_PRODUCTS = os.getenv('PLAID_PRODUCTS', 'transactions')"
   ]
  },
  {
   "cell_type": "markdown",
   "metadata": {},
   "source": [
    "# Plaid Access Token\n",
    "\n",
    "In this section, you will use the plaid-python api to generate the correct authentication tokens to access data in the free developer Sandbox. This mimics how you might connect to your own account or a customer account, but due to privacy issues, this homework will only require connecting to and analyzing the fake data from the developer sandbox that Plaid provides. \n",
    "\n",
    "Complete the following steps to generate an access token:\n",
    "1. Create a client to connect to plaid\n",
    "2. Use the client to generate a public token and request the following items: \n",
    "['transactions', 'income', 'assets']\n",
    "3. Exchange the public token for an access token\n",
    "4. Test the access token by requesting and printing the available test accounts"
   ]
  },
  {
   "cell_type": "markdown",
   "metadata": {},
   "source": [
    "### 1. Create a client to connect to plaid"
   ]
  },
  {
   "cell_type": "code",
   "execution_count": 4,
   "metadata": {},
   "outputs": [],
   "source": [
    "INSTITUTION_ID = \"ins_109508\""
   ]
  },
  {
   "cell_type": "code",
   "execution_count": 5,
   "metadata": {},
   "outputs": [
    {
     "data": {
      "text/plain": [
       "{'institutions': [{'country_codes': ['CA'],\n",
       "   'credentials': [{'label': 'Login ID', 'name': 'username', 'type': 'text'},\n",
       "    {'label': 'Access Code (PAC)', 'name': 'password', 'type': 'password'}],\n",
       "   'has_mfa': True,\n",
       "   'input_spec': 'fixed',\n",
       "   'institution_id': 'ins_118841',\n",
       "   'mfa': ['code', 'list', 'questions', 'selections'],\n",
       "   'mfa_code_type': 'numeric',\n",
       "   'name': 'Access Credit Union - Online Banking',\n",
       "   'products': ['assets', 'balance', 'transactions', 'income', 'identity'],\n",
       "   'routing_numbers': []},\n",
       "  {'country_codes': ['GB'],\n",
       "   'credentials': [{'label': 'Username', 'name': 'username', 'type': 'text'},\n",
       "    {'label': 'Password', 'name': 'password', 'type': 'password'}],\n",
       "   'has_mfa': True,\n",
       "   'input_spec': 'fixed',\n",
       "   'institution_id': 'ins_119371',\n",
       "   'mfa': ['code', 'list', 'questions', 'selections'],\n",
       "   'mfa_code_type': 'numeric',\n",
       "   'name': 'Aegon (Online Services)',\n",
       "   'products': ['assets', 'balance', 'transactions', 'investments'],\n",
       "   'routing_numbers': []}],\n",
       " 'request_id': 'pgBggovIV1bY8Qs',\n",
       " 'total': 11237}"
      ]
     },
     "execution_count": 5,
     "metadata": {},
     "output_type": "execute_result"
    }
   ],
   "source": [
    "# YOUR CODE HERE\n",
    "client = plaid.Client(client_id=PLAID_CLIENT_ID, secret=PLAID_SECRET, public_key=PLAID_PUBLIC_KEY, environment=PLAID_ENV)\n",
    "#client = Client(client_id=PLAID_CLIENT_ID, secret=PLAID_SECRET, public_key=PLAID_PUBLIC_KEY, environment=PLAID_ENV)\n",
    "\n",
    "client.Institutions.get(2)"
   ]
  },
  {
   "cell_type": "markdown",
   "metadata": {},
   "source": [
    "### 2. Generate a public token"
   ]
  },
  {
   "cell_type": "code",
   "execution_count": 6,
   "metadata": {},
   "outputs": [],
   "source": [
    "# YOUR CODE HERE\n",
    "create_tkn_response = client.Sandbox.public_token.create(INSTITUTION_ID, ['transactions','income','assets'])"
   ]
  },
  {
   "cell_type": "markdown",
   "metadata": {},
   "source": [
    "### 3. Exchange the public token for an access token"
   ]
  },
  {
   "cell_type": "code",
   "execution_count": 7,
   "metadata": {},
   "outputs": [],
   "source": [
    "# YOUR CODE HERE\n",
    "exchange_response = client.Item.public_token.exchange(create_tkn_response['public_token'])\n",
    "access_token = exchange_response['access_token']"
   ]
  },
  {
   "cell_type": "markdown",
   "metadata": {},
   "source": [
    "### 4. Fetch Accounts"
   ]
  },
  {
   "cell_type": "code",
   "execution_count": 8,
   "metadata": {},
   "outputs": [
    {
     "name": "stdout",
     "output_type": "stream",
     "text": [
      "\"1NALAApy4RU8rDEZJMGpsmrQo9NDpGT518A16\"\n",
      "\"LKAQAAZj4ksqy1zQmNJlsAdGoWLDNMHP5XV5D\"\n",
      "\"pK6l66VLPBsdGxXpWM7qTr5lwo4QKzCLdZAq5\"\n",
      "\"oq6W66VXJzfwj3gX6PzlUMN8QGl4BrIRmdWPg\"\n",
      "\"gnDNDDVAPgTkB97xPM3vh9mvX81lZbIgJxvGW\"\n",
      "\"8MovooGwDrTevX138kp4skv9o5ERKeFwBbkRG\"\n",
      "\"EmLnLL4NwQunbP1RmolyFmq1zvLKgwTXNqpMP\"\n",
      "\"WjBpBBG8LxIEBLV9aDgRHV17qzypwdilVkJ5K\"\n"
     ]
    }
   ],
   "source": [
    "# YOUR CODE HERE\n",
    "accounts = client.Accounts.get(access_token)\n",
    "\n",
    "#Iterate in accounts\n",
    "i = 0\n",
    "for i in range (0, len(accounts['accounts'])):\n",
    "    pretty_print_response(accounts['accounts'][i]['account_id'])\n",
    "    #print(f\"Account_ID_{i+1} : {accounts['accounts'][i]['account_id']}\")\n",
    "    i+=1"
   ]
  },
  {
   "cell_type": "markdown",
   "metadata": {},
   "source": [
    "---"
   ]
  },
  {
   "cell_type": "markdown",
   "metadata": {},
   "source": [
    "# Account Transactions with Plaid\n",
    "\n",
    "In this section, you will use the Plaid Python SDK to connect to the Developer Sandbox account and grab a list of transactions. You will need to complete the following steps:\n",
    "\n",
    "\n",
    "1. Use the access token to fetch the transactions for the last 90 days\n",
    "2. Print the categories for each transaction type\n",
    "3. Create a new DataFrame using the following fields from the JSON transaction data: `date, name, amount, category`. (For categories with more than one label, just use the first category label in the list)\n",
    "4. Convert the data types to the appropriate types (i.e. datetimeindex for the date and float for the amount)"
   ]
  },
  {
   "cell_type": "markdown",
   "metadata": {},
   "source": [
    "### 1. Fetch the Transactions for the last 90 days"
   ]
  },
  {
   "cell_type": "code",
   "execution_count": 9,
   "metadata": {},
   "outputs": [],
   "source": [
    "# YOUR CODE HERE\n",
    "start_date = '{:%Y-%m-%d}'.format(datetime.datetime.now() + datetime.timedelta(-90))\n",
    "end_date = '{:%Y-%m-%d}'.format(datetime.datetime.now())\n",
    "transaction_response = client.Transactions.get(access_token,start_date,end_date)\n",
    "#transaction_response"
   ]
  },
  {
   "cell_type": "markdown",
   "metadata": {},
   "source": [
    "### 2. Print the categories for each transaction"
   ]
  },
  {
   "cell_type": "code",
   "execution_count": 10,
   "metadata": {},
   "outputs": [
    {
     "name": "stdout",
     "output_type": "stream",
     "text": [
      "Transaction ID                           Category\n",
      "---------------------------------------------------------------------------------------\n",
      "91o5oonVdzFnklbQy5vVFVkx9KgVawtRzLwbW    ['Payment', 'Credit Card']\n",
      "AAo4oo3QxPUnydkR3pV6FlyeLpzlX4F1R7lKL    ['Travel', 'Car Service', 'Ride Share']\n",
      "JlyQyyea4phxdZK4eNLniZ39eyNZQBtdpEvWK    ['Transfer', 'Debit']\n",
      "RdlZllgVQKs6BJjlz4v3HE7d6r1EPWUR7KWr9    ['Transfer', 'Deposit']\n",
      "6QkLkkWmeqUPe5Eqk9mLCDenB4JDKAugjWpMl    ['Recreation', 'Gyms and Fitness Centers']\n",
      "G9VRVVP3yMtxX74BP1mZiMroQpjMGVt1JlXrx    ['Travel', 'Airlines and Aviation Services']\n",
      "nl6b66VpMrh6PkamD9ogHeplZnNeXBU6PdNpl    ['Food and Drink', 'Restaurants', 'Fast Food']\n",
      "bkRwRRV36MC3lPNvekRnUezXPwAeoDUVg51yp    ['Food and Drink', 'Restaurants', 'Coffee Shop']\n",
      "mR6a66VLgKhDNzJ9MxGdImWk3Pnml5ULRbnwD    ['Food and Drink', 'Restaurants']\n",
      "vd6366V5MNsXmjMBpJ5NSzWEKLrzPDfWajB4j    ['Transfer', 'Credit']\n",
      "X73Q33n1gdTdjBDW4JzNTPwQxolP1Nudp4Nz6    ['Travel', 'Airlines and Aviation Services']\n",
      "yN6D66l3M7UXGvekyRaPS3KG6LA3JQiyk9bLQ    ['Travel', 'Car Service', 'Ride Share']\n",
      "DbE4EEaR1eTxDNzwmv9ZiWlVZ7pWoBUvmgB9e    ['Food and Drink', 'Restaurants']\n",
      "5eXJXXEx4lSlwLDZbMzeUKBVEwyKjmuZzoAeE    ['Payment']\n",
      "wa6x66VAbPugp7JXEM9LUDnZQNWDa6urAvxD8    ['Food and Drink', 'Restaurants', 'Fast Food']\n",
      "VPzwzzA1a3sjLXVmdp1GTGML4aAGqbiWb4XL1    ['Shops', 'Sporting Goods']\n",
      "NzLMLL1w7EsaepyjlLQXHM4woqGn43fWLvmQN    ['Payment', 'Credit Card']\n",
      "oq6W66VXJzfwj3gX6PzlUMNEL8yqN5fR4a8y1    ['Travel', 'Car Service', 'Ride Share']\n",
      "6QkLkkWmeqUPe5Eqk9mLCDePEnRoeWtgjWL7L    ['Transfer', 'Debit']\n",
      "RdlZllgVQKs6BJjlz4v3HE7DQdq87NsR7K3o9    ['Transfer', 'Deposit']\n",
      "P3LjLLpeQlUwogWk9d4zUBPgb9xKPZt7EDZ6b    ['Recreation', 'Gyms and Fitness Centers']\n",
      "pK6l66VLPBsdGxXpWM7qTr5Wbln856CL943nk    ['Travel', 'Airlines and Aviation Services']\n",
      "1NALAApy4RU8rDEZJMGpsmrL5QwvrxU5bgloZ    ['Food and Drink', 'Restaurants', 'Fast Food']\n",
      "LKAQAAZj4ksqy1zQmNJlsAd5bGxZd1UPgbGa9    ['Food and Drink', 'Restaurants', 'Coffee Shop']\n",
      "MrnRnnMwj8sB7LQlM4EqTJar91EVazC9bBVy4    ['Food and Drink', 'Restaurants']\n",
      "47ApAA8vaRTQrPDzn6V4UbzGkg4Kzecd8e7L4    ['Transfer', 'Credit']\n",
      "NzLMLL1w7EsaepyjlLQXHM4woqGn43fWLvm6z    ['Travel', 'Airlines and Aviation Services']\n",
      "ZQkpkkVg84UNzb679a8mCxgJVBZPgaCgn5Vle    ['Travel', 'Car Service', 'Ride Share']\n",
      "47ApAA8vaRTQrPDzn6V4UbzGkg4Kzecd8e7bP    ['Food and Drink', 'Restaurants']\n",
      "agRPRRVdBZIJQL6M3EX1IAWmlB3PWzU7pqL5w    ['Payment']\n",
      "dWRNRRVdDLHwGrZQa5A1UlP1rjkqPLCZoweEN    ['Food and Drink', 'Restaurants', 'Fast Food']\n",
      "oq6W66VXJzfwj3gX6PzlUMNEL8yqN5fR4a8qM    ['Shops', 'Sporting Goods']\n",
      "agRPRRVdBZIJQL6M3EX1IAWmlB3PWzU7pqLDn    ['Payment', 'Credit Card']\n",
      "QxR7RRoVXqsD7WRM9EKoIaj7B5yrjVcprxEep    ['Travel', 'Car Service', 'Ride Share']\n",
      "RdlZllgVQKs6BJjlz4v3HE7DQdq87NsR7K3VW    ['Transfer', 'Debit']\n",
      "vd6366V5MNsXmjMBpJ5NSzWmlENyWxuWajAZj    ['Transfer', 'Deposit']\n",
      "pK6l66VLPBsdGxXpWM7qTr5Wbln856CL943ov    ['Recreation', 'Gyms and Fitness Centers']\n",
      "eARyRRVaPpUqrWZgvMezsGXZv4okXmhLyN1kM    ['Travel', 'Airlines and Aviation Services']\n",
      "jyRkRRVZJWUmGqwlpxELHMWDnVkNW9f1o5qAk    ['Food and Drink', 'Restaurants', 'Fast Food']\n",
      "7ZgLggAQaKsBlqDj9P3VTwxyzJG4xWSg4WLp4    ['Food and Drink', 'Restaurants', 'Coffee Shop']\n",
      "P3LjLLpeQlUwogWk9d4zUBPgb9xKPZt7EDZvn    ['Food and Drink', 'Restaurants']\n",
      "dWRNRRVdDLHwGrZQa5A1UlP1rjkqPLCZoweRX    ['Transfer', 'Credit']\n",
      "LKAQAAZj4ksqy1zQmNJlsAd5bGxZd1UPgbGj7    ['Travel', 'Airlines and Aviation Services']\n",
      "NzLMLL1w7EsaepyjlLQXHM4woqGn43fWLvmKw    ['Travel', 'Car Service', 'Ride Share']\n",
      "1NALAApy4RU8rDEZJMGpsmrL5QwvrxU5bgljg    ['Food and Drink', 'Restaurants']\n",
      "MrnRnnMwj8sB7LQlM4EqTJar91EVazC9bBV6M    ['Payment']\n",
      "ZQkpkkVg84UNzb679a8mCxgJVBZPgaCgn5Vqj    ['Food and Drink', 'Restaurants', 'Fast Food']\n",
      "QxR7RRoVXqsD7WRM9EKoIaj7B5yrjVcprxEm5    ['Shops', 'Sporting Goods']\n"
     ]
    }
   ],
   "source": [
    "# YOUR CODE HERE\n",
    "#pretty_print_response(transaction_response['transactions'][1]['category'])\n",
    "\n",
    "print(\"Transaction ID                           Category\")\n",
    "print(\"---------------------------------------------------------------------------------------\")\n",
    "for transactions in transaction_response['transactions']:\n",
    "    print(f\"{transactions['transaction_id']}    {transactions['category']}\")\n",
    "        "
   ]
  },
  {
   "cell_type": "markdown",
   "metadata": {},
   "source": [
    "### 3. Create a new DataFrame using the following fields from the JSON transaction data: date, name, amount, category. \n",
    "\n",
    "(For categories with more than one label, just use the first category label in the list)"
   ]
  },
  {
   "cell_type": "code",
   "execution_count": 11,
   "metadata": {},
   "outputs": [
    {
     "data": {
      "text/html": [
       "<div>\n",
       "<style scoped>\n",
       "    .dataframe tbody tr th:only-of-type {\n",
       "        vertical-align: middle;\n",
       "    }\n",
       "\n",
       "    .dataframe tbody tr th {\n",
       "        vertical-align: top;\n",
       "    }\n",
       "\n",
       "    .dataframe thead th {\n",
       "        text-align: right;\n",
       "    }\n",
       "</style>\n",
       "<table border=\"1\" class=\"dataframe\">\n",
       "  <thead>\n",
       "    <tr style=\"text-align: right;\">\n",
       "      <th></th>\n",
       "      <th>date</th>\n",
       "      <th>name</th>\n",
       "      <th>amount</th>\n",
       "      <th>category</th>\n",
       "    </tr>\n",
       "  </thead>\n",
       "  <tbody>\n",
       "    <tr>\n",
       "      <td>0</td>\n",
       "      <td>2020-01-16</td>\n",
       "      <td>CREDIT CARD 3333 PAYMENT *//</td>\n",
       "      <td>25.0</td>\n",
       "      <td>[Payment, Credit Card]</td>\n",
       "    </tr>\n",
       "    <tr>\n",
       "      <td>1</td>\n",
       "      <td>2020-01-16</td>\n",
       "      <td>Uber 063015 SF**POOL**</td>\n",
       "      <td>5.4</td>\n",
       "      <td>[Travel, Car Service, Ride Share]</td>\n",
       "    </tr>\n",
       "    <tr>\n",
       "      <td>2</td>\n",
       "      <td>2020-01-15</td>\n",
       "      <td>ACH Electronic CreditGUSTO PAY 123456</td>\n",
       "      <td>5850.0</td>\n",
       "      <td>[Transfer, Debit]</td>\n",
       "    </tr>\n",
       "    <tr>\n",
       "      <td>3</td>\n",
       "      <td>2020-01-15</td>\n",
       "      <td>CD DEPOSIT .INITIAL.</td>\n",
       "      <td>1000.0</td>\n",
       "      <td>[Transfer, Deposit]</td>\n",
       "    </tr>\n",
       "    <tr>\n",
       "      <td>4</td>\n",
       "      <td>2020-01-14</td>\n",
       "      <td>Touchstone Climbing</td>\n",
       "      <td>78.5</td>\n",
       "      <td>[Recreation, Gyms and Fitness Centers]</td>\n",
       "    </tr>\n",
       "  </tbody>\n",
       "</table>\n",
       "</div>"
      ],
      "text/plain": [
       "         date                                   name  amount  \\\n",
       "0  2020-01-16           CREDIT CARD 3333 PAYMENT *//    25.0   \n",
       "1  2020-01-16                 Uber 063015 SF**POOL**     5.4   \n",
       "2  2020-01-15  ACH Electronic CreditGUSTO PAY 123456  5850.0   \n",
       "3  2020-01-15                   CD DEPOSIT .INITIAL.  1000.0   \n",
       "4  2020-01-14                    Touchstone Climbing    78.5   \n",
       "\n",
       "                                 category  \n",
       "0                  [Payment, Credit Card]  \n",
       "1       [Travel, Car Service, Ride Share]  \n",
       "2                       [Transfer, Debit]  \n",
       "3                     [Transfer, Deposit]  \n",
       "4  [Recreation, Gyms and Fitness Centers]  "
      ]
     },
     "execution_count": 11,
     "metadata": {},
     "output_type": "execute_result"
    }
   ],
   "source": [
    "# YOUR CODE HERE\n",
    "transactions = transaction_response['transactions']\n",
    "data_df = pd.DataFrame(transactions)[['date', 'name', 'amount', 'category']]\n",
    "data_df.head()"
   ]
  },
  {
   "cell_type": "markdown",
   "metadata": {},
   "source": [
    "### 4. Convert the data types to the appropriate types \n",
    "\n",
    "(i.e. datetimeindex for the date and float for the amount)"
   ]
  },
  {
   "cell_type": "code",
   "execution_count": 12,
   "metadata": {},
   "outputs": [
    {
     "data": {
      "text/html": [
       "<div>\n",
       "<style scoped>\n",
       "    .dataframe tbody tr th:only-of-type {\n",
       "        vertical-align: middle;\n",
       "    }\n",
       "\n",
       "    .dataframe tbody tr th {\n",
       "        vertical-align: top;\n",
       "    }\n",
       "\n",
       "    .dataframe thead th {\n",
       "        text-align: right;\n",
       "    }\n",
       "</style>\n",
       "<table border=\"1\" class=\"dataframe\">\n",
       "  <thead>\n",
       "    <tr style=\"text-align: right;\">\n",
       "      <th></th>\n",
       "      <th>name</th>\n",
       "      <th>amount</th>\n",
       "      <th>category</th>\n",
       "    </tr>\n",
       "    <tr>\n",
       "      <th>date</th>\n",
       "      <th></th>\n",
       "      <th></th>\n",
       "      <th></th>\n",
       "    </tr>\n",
       "  </thead>\n",
       "  <tbody>\n",
       "    <tr>\n",
       "      <td>2020-01-16</td>\n",
       "      <td>CREDIT CARD 3333 PAYMENT *//</td>\n",
       "      <td>25.0</td>\n",
       "      <td>Payment, Credit Card</td>\n",
       "    </tr>\n",
       "    <tr>\n",
       "      <td>2020-01-16</td>\n",
       "      <td>Uber 063015 SF**POOL**</td>\n",
       "      <td>5.4</td>\n",
       "      <td>Travel, Car Service, Ride Share</td>\n",
       "    </tr>\n",
       "    <tr>\n",
       "      <td>2020-01-15</td>\n",
       "      <td>ACH Electronic CreditGUSTO PAY 123456</td>\n",
       "      <td>5850.0</td>\n",
       "      <td>Transfer, Debit</td>\n",
       "    </tr>\n",
       "    <tr>\n",
       "      <td>2020-01-15</td>\n",
       "      <td>CD DEPOSIT .INITIAL.</td>\n",
       "      <td>1000.0</td>\n",
       "      <td>Transfer, Deposit</td>\n",
       "    </tr>\n",
       "    <tr>\n",
       "      <td>2020-01-14</td>\n",
       "      <td>Touchstone Climbing</td>\n",
       "      <td>78.5</td>\n",
       "      <td>Recreation, Gyms and Fitness Centers</td>\n",
       "    </tr>\n",
       "  </tbody>\n",
       "</table>\n",
       "</div>"
      ],
      "text/plain": [
       "                                             name  amount  \\\n",
       "date                                                        \n",
       "2020-01-16           CREDIT CARD 3333 PAYMENT *//    25.0   \n",
       "2020-01-16                 Uber 063015 SF**POOL**     5.4   \n",
       "2020-01-15  ACH Electronic CreditGUSTO PAY 123456  5850.0   \n",
       "2020-01-15                   CD DEPOSIT .INITIAL.  1000.0   \n",
       "2020-01-14                    Touchstone Climbing    78.5   \n",
       "\n",
       "                                        category  \n",
       "date                                              \n",
       "2020-01-16                  Payment, Credit Card  \n",
       "2020-01-16       Travel, Car Service, Ride Share  \n",
       "2020-01-15                       Transfer, Debit  \n",
       "2020-01-15                     Transfer, Deposit  \n",
       "2020-01-14  Recreation, Gyms and Fitness Centers  "
      ]
     },
     "execution_count": 12,
     "metadata": {},
     "output_type": "execute_result"
    }
   ],
   "source": [
    "# YOUR CODE HERE\n",
    "\n",
    "data_df['amount'] = data_df['amount'].astype('float')\n",
    "data_df[\"date\"] = pd.DatetimeIndex(data_df[\"date\"])\n",
    "data_df.set_index(\"date\", inplace=True)\n",
    "\n",
    "data_df['category']=data_df.category.apply(', '.join)\n",
    "#data_df.dtypes\n",
    "data_df.head()"
   ]
  },
  {
   "cell_type": "markdown",
   "metadata": {},
   "source": [
    "---"
   ]
  },
  {
   "cell_type": "markdown",
   "metadata": {},
   "source": [
    "# Income Analysis with Plaid\n",
    "\n",
    "In this section, you will use the Plaid Sandbox to complete the following:\n",
    "1. Determine the previous year's gross income and print the results\n",
    "2. Determine the current monthly income and print the results\n",
    "3. Determine the projected yearly income and print the results"
   ]
  },
  {
   "cell_type": "code",
   "execution_count": 13,
   "metadata": {},
   "outputs": [
    {
     "name": "stdout",
     "output_type": "stream",
     "text": [
      "Last Year Gross Income  : 7285\n",
      "Current Monthly Income  : 500\n",
      "Projected Yearly Income : 7389\n"
     ]
    }
   ],
   "source": [
    "# YOUR CODE HERE\n",
    "income = client.Income.get(access_token)['income']\n",
    "\n",
    "gross_income =income['last_year_income_before_tax']\n",
    "monthly_income = income['income_streams'][0]['monthly_income']\n",
    "projected_income = income['projected_yearly_income_before_tax']\n",
    "\n",
    "print(f'Last Year Gross Income  : {gross_income}')\n",
    "print(f'Current Monthly Income  : {monthly_income}')\n",
    "print(f'Projected Yearly Income : {projected_income}')\n",
    "\n",
    "#income                       "
   ]
  },
  {
   "cell_type": "markdown",
   "metadata": {},
   "source": [
    "---"
   ]
  },
  {
   "cell_type": "markdown",
   "metadata": {},
   "source": [
    "# Budget Analysis\n",
    "In this section, you will use the transactions DataFrame to analyze the customer's budget\n",
    "\n",
    "1. Calculate the total spending per category and print the results (Hint: groupby or count transactions per category)\n",
    "2. Generate a bar chart with the number of transactions for each category \n",
    "3. Calculate the expenses per month\n",
    "4. Plot the total expenses per month"
   ]
  },
  {
   "cell_type": "markdown",
   "metadata": {},
   "source": [
    "### Calculate the expenses per category"
   ]
  },
  {
   "cell_type": "code",
   "execution_count": 14,
   "metadata": {},
   "outputs": [
    {
     "data": {
      "text/plain": [
       "<matplotlib.axes._subplots.AxesSubplot at 0x1213bccd0>"
      ]
     },
     "execution_count": 14,
     "metadata": {},
     "output_type": "execute_result"
    },
    {
     "data": {
      "image/png": "[encoded data removed]",
      "text/plain": [
       "<Figure size 720x720 with 1 Axes>"
      ]
     },
     "metadata": {},
     "output_type": "display_data"
    }
   ],
   "source": [
    "# YOUR CODE HERE\n",
    "df=data_df.groupby('category').sum().abs().reset_index()\n",
    "df.plot(kind='pie', y = 'amount', autopct='%1.1f%%', startangle=90, shadow=False, labels=df['category'], legend = False, fontsize=7, figsize=(10,10))"
   ]
  },
  {
   "cell_type": "code",
   "execution_count": 15,
   "metadata": {},
   "outputs": [
    {
     "data": {
      "text/html": [
       "<div>\n",
       "<style scoped>\n",
       "    .dataframe tbody tr th:only-of-type {\n",
       "        vertical-align: middle;\n",
       "    }\n",
       "\n",
       "    .dataframe tbody tr th {\n",
       "        vertical-align: top;\n",
       "    }\n",
       "\n",
       "    .dataframe thead th {\n",
       "        text-align: right;\n",
       "    }\n",
       "</style>\n",
       "<table border=\"1\" class=\"dataframe\">\n",
       "  <thead>\n",
       "    <tr style=\"text-align: right;\">\n",
       "      <th></th>\n",
       "      <th>category</th>\n",
       "      <th>amount</th>\n",
       "    </tr>\n",
       "  </thead>\n",
       "  <tbody>\n",
       "    <tr>\n",
       "      <td>0</td>\n",
       "      <td>Food and Drink, Restaurants</td>\n",
       "      <td>1768.20</td>\n",
       "    </tr>\n",
       "    <tr>\n",
       "      <td>1</td>\n",
       "      <td>Food and Drink, Restaurants, Coffee Shop</td>\n",
       "      <td>12.99</td>\n",
       "    </tr>\n",
       "    <tr>\n",
       "      <td>2</td>\n",
       "      <td>Food and Drink, Restaurants, Fast Food</td>\n",
       "      <td>1536.00</td>\n",
       "    </tr>\n",
       "    <tr>\n",
       "      <td>3</td>\n",
       "      <td>Payment</td>\n",
       "      <td>6235.50</td>\n",
       "    </tr>\n",
       "    <tr>\n",
       "      <td>4</td>\n",
       "      <td>Payment, Credit Card</td>\n",
       "      <td>75.00</td>\n",
       "    </tr>\n",
       "    <tr>\n",
       "      <td>5</td>\n",
       "      <td>Recreation, Gyms and Fitness Centers</td>\n",
       "      <td>235.50</td>\n",
       "    </tr>\n",
       "    <tr>\n",
       "      <td>6</td>\n",
       "      <td>Shops, Sporting Goods</td>\n",
       "      <td>1500.00</td>\n",
       "    </tr>\n",
       "    <tr>\n",
       "      <td>7</td>\n",
       "      <td>Transfer, Credit</td>\n",
       "      <td>12.66</td>\n",
       "    </tr>\n",
       "    <tr>\n",
       "      <td>8</td>\n",
       "      <td>Transfer, Debit</td>\n",
       "      <td>17550.00</td>\n",
       "    </tr>\n",
       "    <tr>\n",
       "      <td>9</td>\n",
       "      <td>Transfer, Deposit</td>\n",
       "      <td>3000.00</td>\n",
       "    </tr>\n",
       "    <tr>\n",
       "      <td>10</td>\n",
       "      <td>Travel, Airlines and Aviation Services</td>\n",
       "      <td>0.00</td>\n",
       "    </tr>\n",
       "    <tr>\n",
       "      <td>11</td>\n",
       "      <td>Travel, Car Service, Ride Share</td>\n",
       "      <td>35.19</td>\n",
       "    </tr>\n",
       "  </tbody>\n",
       "</table>\n",
       "</div>"
      ],
      "text/plain": [
       "                                    category    amount\n",
       "0                Food and Drink, Restaurants   1768.20\n",
       "1   Food and Drink, Restaurants, Coffee Shop     12.99\n",
       "2     Food and Drink, Restaurants, Fast Food   1536.00\n",
       "3                                    Payment   6235.50\n",
       "4                       Payment, Credit Card     75.00\n",
       "5       Recreation, Gyms and Fitness Centers    235.50\n",
       "6                      Shops, Sporting Goods   1500.00\n",
       "7                           Transfer, Credit     12.66\n",
       "8                            Transfer, Debit  17550.00\n",
       "9                          Transfer, Deposit   3000.00\n",
       "10    Travel, Airlines and Aviation Services      0.00\n",
       "11           Travel, Car Service, Ride Share     35.19"
      ]
     },
     "execution_count": 15,
     "metadata": {},
     "output_type": "execute_result"
    }
   ],
   "source": [
    "df"
   ]
  },
  {
   "cell_type": "markdown",
   "metadata": {},
   "source": [
    "### Calculate the expenses per month"
   ]
  },
  {
   "cell_type": "code",
   "execution_count": 16,
   "metadata": {},
   "outputs": [
    {
     "data": {
      "text/html": [
       "<div>\n",
       "<style scoped>\n",
       "    .dataframe tbody tr th:only-of-type {\n",
       "        vertical-align: middle;\n",
       "    }\n",
       "\n",
       "    .dataframe tbody tr th {\n",
       "        vertical-align: top;\n",
       "    }\n",
       "\n",
       "    .dataframe thead th {\n",
       "        text-align: right;\n",
       "    }\n",
       "</style>\n",
       "<table border=\"1\" class=\"dataframe\">\n",
       "  <thead>\n",
       "    <tr style=\"text-align: right;\">\n",
       "      <th></th>\n",
       "      <th></th>\n",
       "      <th>amount</th>\n",
       "    </tr>\n",
       "    <tr>\n",
       "      <th>date</th>\n",
       "      <th>date</th>\n",
       "      <th></th>\n",
       "    </tr>\n",
       "  </thead>\n",
       "  <tbody>\n",
       "    <tr>\n",
       "      <td>1</td>\n",
       "      <td>2020</td>\n",
       "      <td>7060.41</td>\n",
       "    </tr>\n",
       "    <tr>\n",
       "      <td>10</td>\n",
       "      <td>2019</td>\n",
       "      <td>3584.83</td>\n",
       "    </tr>\n",
       "    <tr>\n",
       "      <td>11</td>\n",
       "      <td>2019</td>\n",
       "      <td>10645.24</td>\n",
       "    </tr>\n",
       "    <tr>\n",
       "      <td>12</td>\n",
       "      <td>2019</td>\n",
       "      <td>10645.24</td>\n",
       "    </tr>\n",
       "  </tbody>\n",
       "</table>\n",
       "</div>"
      ],
      "text/plain": [
       "             amount\n",
       "date date          \n",
       "1    2020   7060.41\n",
       "10   2019   3584.83\n",
       "11   2019  10645.24\n",
       "12   2019  10645.24"
      ]
     },
     "execution_count": 16,
     "metadata": {},
     "output_type": "execute_result"
    }
   ],
   "source": [
    "# YOUR CODE HERE\n",
    "monthly_expenses = data_df.groupby(by=[data_df.index.month, data_df.index.year]).sum()\n",
    "monthly_expenses"
   ]
  },
  {
   "cell_type": "code",
   "execution_count": 17,
   "metadata": {},
   "outputs": [
    {
     "data": {
      "text/plain": [
       "<matplotlib.axes._subplots.AxesSubplot at 0x1227e3910>"
      ]
     },
     "execution_count": 17,
     "metadata": {},
     "output_type": "execute_result"
    },
    {
     "data": {
      "image/png": "[encoded data removed]",
      "text/plain": [
       "<Figure size 432x288 with 1 Axes>"
      ]
     },
     "metadata": {
      "needs_background": "light"
     },
     "output_type": "display_data"
    }
   ],
   "source": [
    "monthly_expenses.plot(kind='bar', title='Expenses per Month')"
   ]
  },
  {
   "cell_type": "code",
   "execution_count": null,
   "metadata": {},
   "outputs": [],
   "source": []
  }
 ],
 "metadata": {
  "kernel_info": {
   "name": "dev"
  },
  "kernelspec": {
   "display_name": "Python 3",
   "language": "python",
   "name": "python3"
  },
  "language_info": {
   "codemirror_mode": {
    "name": "ipython",
    "version": 3
   },
   "file_extension": ".py",
   "mimetype": "text/x-python",
   "name": "python",
   "nbconvert_exporter": "python",
   "pygments_lexer": "ipython3",
   "version": "3.7.4"
  },
  "nteract": {
   "version": "0.12.3"
  }
 },
 "nbformat": 4,
 "nbformat_minor": 4
}
