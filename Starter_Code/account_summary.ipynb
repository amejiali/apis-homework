{
 "cells": [
  {
   "cell_type": "code",
   "execution_count": 122,
   "metadata": {},
   "outputs": [],
   "source": [
    "import os\n",
    "import plaid\n",
    "import requests\n",
    "import datetime\n",
    "import json\n",
    "import pandas as pd\n",
    "%matplotlib inline"
   ]
  },
  {
   "cell_type": "code",
   "execution_count": 123,
   "metadata": {},
   "outputs": [],
   "source": [
    "def pretty_print_response(response):\n",
    "  print(json.dumps(response, indent=4, sort_keys=True))"
   ]
  },
  {
   "cell_type": "code",
   "execution_count": 124,
   "metadata": {},
   "outputs": [
    {
     "data": {
      "text/plain": [
       "'5e17c03aca4e880012dc1fe9'"
      ]
     },
     "execution_count": 124,
     "metadata": {},
     "output_type": "execute_result"
    }
   ],
   "source": [
    "PLAID_CLIENT_ID = os.getenv('PLAID_CLIENT_ID')\n",
    "PLAID_SECRET = os.getenv('PLAID_SBX_SECRET_KEY')\n",
    "PLAID_PUBLIC_KEY = os.getenv('PLAID_PUBLIC_KEY')\n",
    "PLAID_ENV = os.getenv('PLAID_ENV', 'sandbox')\n",
    "PLAID_PRODUCTS = os.getenv('PLAID_PRODUCTS', 'transactions')\n",
    "\n",
    "PLAID_CLIENT_ID"
   ]
  },
  {
   "cell_type": "markdown",
   "metadata": {},
   "source": [
    "# Plaid Access Token\n",
    "\n",
    "In this section, you will use the plaid-python api to generate the correct authentication tokens to access data in the free developer Sandbox. This mimics how you might connect to your own account or a customer account, but due to privacy issues, this homework will only require connecting to and analyzing the fake data from the developer sandbox that Plaid provides. \n",
    "\n",
    "Complete the following steps to generate an access token:\n",
    "1. Create a client to connect to plaid\n",
    "2. Use the client to generate a public token and request the following items: \n",
    "['transactions', 'income', 'assets']\n",
    "3. Exchange the public token for an access token\n",
    "4. Test the access token by requesting and printing the available test accounts"
   ]
  },
  {
   "cell_type": "markdown",
   "metadata": {},
   "source": [
    "### 1. Create a client to connect to plaid"
   ]
  },
  {
   "cell_type": "code",
   "execution_count": 125,
   "metadata": {},
   "outputs": [],
   "source": [
    "INSTITUTION_ID = \"ins_109508\""
   ]
  },
  {
   "cell_type": "code",
   "execution_count": 126,
   "metadata": {},
   "outputs": [
    {
     "data": {
      "text/plain": [
       "{'institutions': [{'country_codes': ['CA'],\n",
       "   'credentials': [{'label': 'Login ID', 'name': 'username', 'type': 'text'},\n",
       "    {'label': 'Access Code (PAC)', 'name': 'password', 'type': 'password'}],\n",
       "   'has_mfa': True,\n",
       "   'input_spec': 'fixed',\n",
       "   'institution_id': 'ins_118841',\n",
       "   'mfa': ['code', 'list', 'questions', 'selections'],\n",
       "   'mfa_code_type': 'numeric',\n",
       "   'name': 'Access Credit Union - Online Banking',\n",
       "   'products': ['assets', 'balance', 'transactions', 'income', 'identity'],\n",
       "   'routing_numbers': []},\n",
       "  {'country_codes': ['GB'],\n",
       "   'credentials': [{'label': 'Username', 'name': 'username', 'type': 'text'},\n",
       "    {'label': 'Password', 'name': 'password', 'type': 'password'}],\n",
       "   'has_mfa': True,\n",
       "   'input_spec': 'fixed',\n",
       "   'institution_id': 'ins_119371',\n",
       "   'mfa': ['code', 'list', 'questions', 'selections'],\n",
       "   'mfa_code_type': 'numeric',\n",
       "   'name': 'Aegon (Online Services)',\n",
       "   'products': ['assets', 'balance', 'transactions', 'investments'],\n",
       "   'routing_numbers': []}],\n",
       " 'request_id': 'F2EgIPcZtCYeesy',\n",
       " 'total': 11279}"
      ]
     },
     "execution_count": 126,
     "metadata": {},
     "output_type": "execute_result"
    }
   ],
   "source": [
    "# YOUR CODE HERE\n",
    "client = plaid.Client(client_id=PLAID_CLIENT_ID, secret=PLAID_SECRET, public_key=PLAID_PUBLIC_KEY, environment=PLAID_ENV)\n",
    "#client = Client(client_id=PLAID_CLIENT_ID, secret=PLAID_SECRET, public_key=PLAID_PUBLIC_KEY, environment=PLAID_ENV)\n",
    "\n",
    "client.Institutions.get(2)"
   ]
  },
  {
   "cell_type": "markdown",
   "metadata": {},
   "source": [
    "### 2. Generate a public token"
   ]
  },
  {
   "cell_type": "code",
   "execution_count": 127,
   "metadata": {},
   "outputs": [],
   "source": [
    "# YOUR CODE HERE\n",
    "create_tkn_response = client.Sandbox.public_token.create(INSTITUTION_ID, ['transactions','income','assets'])"
   ]
  },
  {
   "cell_type": "markdown",
   "metadata": {},
   "source": [
    "### 3. Exchange the public token for an access token"
   ]
  },
  {
   "cell_type": "code",
   "execution_count": 128,
   "metadata": {},
   "outputs": [],
   "source": [
    "# YOUR CODE HERE\n",
    "exchange_response = client.Item.public_token.exchange(create_tkn_response['public_token'])\n",
    "access_token = exchange_response['access_token']"
   ]
  },
  {
   "cell_type": "markdown",
   "metadata": {},
   "source": [
    "### 4. Fetch Accounts"
   ]
  },
  {
   "cell_type": "code",
   "execution_count": 129,
   "metadata": {},
   "outputs": [
    {
     "name": "stdout",
     "output_type": "stream",
     "text": [
      "\"Ep5z4rVVvGt5badN9v8XCrWMWmbpVjFXBAGnk\"\n",
      "\"W75oG4XXzvh5BXlAN7WPC3GQGV4rDXclbNnzE\"\n",
      "\"AZRl39wwp8CZylL79beGi7WkWlRG4gc1pVZN5\"\n",
      "\"Gg5GPknnovU5XdyQqwEgCPALAMz1VXu1pNmg7\"\n",
      "\"nGzXVJRRwahKPvNzZEqMcE6r6e8LB9i657rq9\"\n",
      "\"bGJaVjDDgvh4lVmBpzgLiK5v5eLkDWUVk9apK\"\n",
      "\"mGkeV9MMbdhqNvmk87lefNoQomqg58fLoKxZy\"\n",
      "\"yXealbkk5LCjGwV3d5mJTd7973nmQoFya1jRR\"\n"
     ]
    }
   ],
   "source": [
    "# YOUR CODE HERE\n",
    "accounts = client.Accounts.get(access_token)\n",
    "\n",
    "#Iterate in accounts\n",
    "i = 0\n",
    "for i in range (0, len(accounts['accounts'])):\n",
    "    pretty_print_response(accounts['accounts'][i]['account_id'])\n",
    "    #print(f\"Account_ID_{i+1} : {accounts['accounts'][i]['account_id']}\")\n",
    "    i+=1"
   ]
  },
  {
   "cell_type": "markdown",
   "metadata": {},
   "source": [
    "---"
   ]
  },
  {
   "cell_type": "markdown",
   "metadata": {},
   "source": [
    "# Account Transactions with Plaid\n",
    "\n",
    "In this section, you will use the Plaid Python SDK to connect to the Developer Sandbox account and grab a list of transactions. You will need to complete the following steps:\n",
    "\n",
    "\n",
    "1. Use the access token to fetch the transactions for the last 90 days\n",
    "2. Print the categories for each transaction type\n",
    "3. Create a new DataFrame using the following fields from the JSON transaction data: `date, name, amount, category`. (For categories with more than one label, just use the first category label in the list)\n",
    "4. Convert the data types to the appropriate types (i.e. datetimeindex for the date and float for the amount)"
   ]
  },
  {
   "cell_type": "markdown",
   "metadata": {},
   "source": [
    "### 1. Fetch the Transactions for the last 90 days"
   ]
  },
  {
   "cell_type": "code",
   "execution_count": 130,
   "metadata": {},
   "outputs": [],
   "source": [
    "# YOUR CODE HERE\n",
    "start_date = '{:%Y-%m-%d}'.format(datetime.datetime.now() + datetime.timedelta(-90))\n",
    "end_date = '{:%Y-%m-%d}'.format(datetime.datetime.now())\n",
    "transaction_response = client.Transactions.get(access_token,start_date,end_date)\n",
    "#transaction_response"
   ]
  },
  {
   "cell_type": "markdown",
   "metadata": {},
   "source": [
    "### 2. Print the categories for each transaction"
   ]
  },
  {
   "cell_type": "code",
   "execution_count": 131,
   "metadata": {},
   "outputs": [
    {
     "name": "stdout",
     "output_type": "stream",
     "text": [
      "Transaction ID                           Category\n",
      "---------------------------------------------------------------------------------------\n",
      "yXealbkk5LCjGwV3d5mJTd79wj9ZqKuya1jze    ['Payment', 'Credit Card']\n",
      "Ep5z4rVVvGt5badN9v8XCrWMRQMkEqfXBAGnW    ['Travel', 'Car Service', 'Ride Share']\n",
      "Jq5Gebww9vt5dyv9zwqaCDpG4RG6z3CdyKaDL    ['Transfer', 'Debit']\n",
      "Ra5eg1wwovT5BoWAxDqyCNRBlGBpA7iRqxDgA    ['Transfer', 'Deposit']\n",
      "638wWBnndjs3eaVQx4D7iWgN5QNLmeSglaNBP    ['Recreation', 'Gyms and Fitness Centers']\n",
      "W75oG4XXzvh5BXlAN7WPC3GQ9eQnl1HlbNnzL    ['Travel', 'Airlines and Aviation Services']\n",
      "AZRl39wwp8CZylL79beGi7WkndkrVyS1pVZQg    ['Food and Drink', 'Restaurants']\n",
      "Gg5GPknnovU5XdyQqwEgCPALBkL7vrc1pNm5m    ['Food and Drink', 'Restaurants', 'Coffee Shop']\n",
      "nGzXVJRRwahKPvNzZEqMcE6rqQrbgpS657rjv    ['Food and Drink', 'Restaurants']\n",
      "9aAvnwRRKQTakP6oLDJXiLn38X3jvkiRveApQ    ['Transfer', 'Credit']\n",
      "Xe5NnwbbBvsljGeMrwx5f8ZaWKae9wFdXMVmk    ['Travel', 'Airlines and Aviation Services']\n",
      "bGJaVjDDgvh4lVmBpzgLiK5vbMv7JzsVk9aXd    ['Travel', 'Car Service', 'Ride Share']\n",
      "DL5rawnnVAu5D4kKj1JgCgGrwdrb9lsvolV5R    ['Food and Drink', 'Restaurants']\n",
      "5BgwEVnn6PfEwdoP3ypjioG8kr8MzBcZn4R11    ['Payment']\n",
      "wGjzV5RRJMhVpvP5KzA8h4gV5oV98nirpykbX    ['Food and Drink', 'Restaurants']\n",
      "Vj5XAgZZrvi5LqJDbB8zCQlrmNrEgMsWV5xBg    ['Shops', 'Sporting Goods']\n",
      "vwPrVRggAZI4mvaP9qb6ix7pQ8pGvWuWKGNMR    ['Payment', 'Credit Card']\n",
      "mGkeV9MMbdhqNvmk87lefNoQZJQExWiLoKxDn    ['Travel', 'Car Service', 'Ride Share']\n"
     ]
    }
   ],
   "source": [
    "# YOUR CODE HERE\n",
    "#pretty_print_response(transaction_response['transactions'][1]['category'])\n",
    "\n",
    "print(\"Transaction ID                           Category\")\n",
    "print(\"---------------------------------------------------------------------------------------\")\n",
    "for transactions in transaction_response['transactions']:\n",
    "    print(f\"{transactions['transaction_id']}    {transactions['category']}\")\n",
    "        "
   ]
  },
  {
   "cell_type": "markdown",
   "metadata": {},
   "source": [
    "### 3. Create a new DataFrame using the following fields from the JSON transaction data: date, name, amount, category. \n",
    "\n",
    "(For categories with more than one label, just use the first category label in the list)"
   ]
  },
  {
   "cell_type": "code",
   "execution_count": 155,
   "metadata": {},
   "outputs": [
    {
     "data": {
      "text/html": [
       "<div>\n",
       "<style scoped>\n",
       "    .dataframe tbody tr th:only-of-type {\n",
       "        vertical-align: middle;\n",
       "    }\n",
       "\n",
       "    .dataframe tbody tr th {\n",
       "        vertical-align: top;\n",
       "    }\n",
       "\n",
       "    .dataframe thead th {\n",
       "        text-align: right;\n",
       "    }\n",
       "</style>\n",
       "<table border=\"1\" class=\"dataframe\">\n",
       "  <thead>\n",
       "    <tr style=\"text-align: right;\">\n",
       "      <th></th>\n",
       "      <th>date</th>\n",
       "      <th>name</th>\n",
       "      <th>amount</th>\n",
       "      <th>category</th>\n",
       "    </tr>\n",
       "  </thead>\n",
       "  <tbody>\n",
       "    <tr>\n",
       "      <td>0</td>\n",
       "      <td>2020-01-16</td>\n",
       "      <td>CREDIT CARD 3333 PAYMENT *//</td>\n",
       "      <td>25.00</td>\n",
       "      <td>[Payment, Credit Card]</td>\n",
       "    </tr>\n",
       "    <tr>\n",
       "      <td>1</td>\n",
       "      <td>2020-01-16</td>\n",
       "      <td>Uber 063015 SF**POOL**</td>\n",
       "      <td>5.40</td>\n",
       "      <td>[Travel, Car Service, Ride Share]</td>\n",
       "    </tr>\n",
       "    <tr>\n",
       "      <td>2</td>\n",
       "      <td>2020-01-15</td>\n",
       "      <td>ACH Electronic CreditGUSTO PAY 123456</td>\n",
       "      <td>5850.00</td>\n",
       "      <td>[Transfer, Debit]</td>\n",
       "    </tr>\n",
       "    <tr>\n",
       "      <td>3</td>\n",
       "      <td>2020-01-15</td>\n",
       "      <td>CD DEPOSIT .INITIAL.</td>\n",
       "      <td>1000.00</td>\n",
       "      <td>[Transfer, Deposit]</td>\n",
       "    </tr>\n",
       "    <tr>\n",
       "      <td>4</td>\n",
       "      <td>2020-01-14</td>\n",
       "      <td>Touchstone Climbing</td>\n",
       "      <td>78.50</td>\n",
       "      <td>[Recreation, Gyms and Fitness Centers]</td>\n",
       "    </tr>\n",
       "    <tr>\n",
       "      <td>5</td>\n",
       "      <td>2020-01-14</td>\n",
       "      <td>United Airlines</td>\n",
       "      <td>-500.00</td>\n",
       "      <td>[Travel, Airlines and Aviation Services]</td>\n",
       "    </tr>\n",
       "    <tr>\n",
       "      <td>6</td>\n",
       "      <td>2020-01-13</td>\n",
       "      <td>McDonald's</td>\n",
       "      <td>12.00</td>\n",
       "      <td>[Food and Drink, Restaurants]</td>\n",
       "    </tr>\n",
       "    <tr>\n",
       "      <td>7</td>\n",
       "      <td>2020-01-13</td>\n",
       "      <td>Starbucks</td>\n",
       "      <td>4.33</td>\n",
       "      <td>[Food and Drink, Restaurants, Coffee Shop]</td>\n",
       "    </tr>\n",
       "    <tr>\n",
       "      <td>8</td>\n",
       "      <td>2020-01-12</td>\n",
       "      <td>SparkFun</td>\n",
       "      <td>89.40</td>\n",
       "      <td>[Food and Drink, Restaurants]</td>\n",
       "    </tr>\n",
       "    <tr>\n",
       "      <td>9</td>\n",
       "      <td>2020-01-11</td>\n",
       "      <td>INTRST PYMNT</td>\n",
       "      <td>-4.22</td>\n",
       "      <td>[Transfer, Credit]</td>\n",
       "    </tr>\n",
       "    <tr>\n",
       "      <td>10</td>\n",
       "      <td>2020-01-01</td>\n",
       "      <td>United Airlines</td>\n",
       "      <td>500.00</td>\n",
       "      <td>[Travel, Airlines and Aviation Services]</td>\n",
       "    </tr>\n",
       "    <tr>\n",
       "      <td>11</td>\n",
       "      <td>2019-12-30</td>\n",
       "      <td>Uber 072515 SF**POOL**</td>\n",
       "      <td>6.33</td>\n",
       "      <td>[Travel, Car Service, Ride Share]</td>\n",
       "    </tr>\n",
       "    <tr>\n",
       "      <td>12</td>\n",
       "      <td>2019-12-27</td>\n",
       "      <td>Tectra Inc</td>\n",
       "      <td>500.00</td>\n",
       "      <td>[Food and Drink, Restaurants]</td>\n",
       "    </tr>\n",
       "    <tr>\n",
       "      <td>13</td>\n",
       "      <td>2019-12-26</td>\n",
       "      <td>AUTOMATIC PAYMENT - THANK</td>\n",
       "      <td>2078.50</td>\n",
       "      <td>[Payment]</td>\n",
       "    </tr>\n",
       "    <tr>\n",
       "      <td>14</td>\n",
       "      <td>2019-12-26</td>\n",
       "      <td>KFC</td>\n",
       "      <td>500.00</td>\n",
       "      <td>[Food and Drink, Restaurants]</td>\n",
       "    </tr>\n",
       "    <tr>\n",
       "      <td>15</td>\n",
       "      <td>2019-12-26</td>\n",
       "      <td>Madison Bicycle Shop</td>\n",
       "      <td>500.00</td>\n",
       "      <td>[Shops, Sporting Goods]</td>\n",
       "    </tr>\n",
       "    <tr>\n",
       "      <td>16</td>\n",
       "      <td>2019-12-17</td>\n",
       "      <td>CREDIT CARD 3333 PAYMENT *//</td>\n",
       "      <td>25.00</td>\n",
       "      <td>[Payment, Credit Card]</td>\n",
       "    </tr>\n",
       "    <tr>\n",
       "      <td>17</td>\n",
       "      <td>2019-12-17</td>\n",
       "      <td>Uber 063015 SF**POOL**</td>\n",
       "      <td>5.40</td>\n",
       "      <td>[Travel, Car Service, Ride Share]</td>\n",
       "    </tr>\n",
       "  </tbody>\n",
       "</table>\n",
       "</div>"
      ],
      "text/plain": [
       "          date                                   name   amount  \\\n",
       "0   2020-01-16           CREDIT CARD 3333 PAYMENT *//    25.00   \n",
       "1   2020-01-16                 Uber 063015 SF**POOL**     5.40   \n",
       "2   2020-01-15  ACH Electronic CreditGUSTO PAY 123456  5850.00   \n",
       "3   2020-01-15                   CD DEPOSIT .INITIAL.  1000.00   \n",
       "4   2020-01-14                    Touchstone Climbing    78.50   \n",
       "5   2020-01-14                        United Airlines  -500.00   \n",
       "6   2020-01-13                             McDonald's    12.00   \n",
       "7   2020-01-13                              Starbucks     4.33   \n",
       "8   2020-01-12                               SparkFun    89.40   \n",
       "9   2020-01-11                           INTRST PYMNT    -4.22   \n",
       "10  2020-01-01                        United Airlines   500.00   \n",
       "11  2019-12-30                 Uber 072515 SF**POOL**     6.33   \n",
       "12  2019-12-27                             Tectra Inc   500.00   \n",
       "13  2019-12-26              AUTOMATIC PAYMENT - THANK  2078.50   \n",
       "14  2019-12-26                                    KFC   500.00   \n",
       "15  2019-12-26                   Madison Bicycle Shop   500.00   \n",
       "16  2019-12-17           CREDIT CARD 3333 PAYMENT *//    25.00   \n",
       "17  2019-12-17                 Uber 063015 SF**POOL**     5.40   \n",
       "\n",
       "                                      category  \n",
       "0                       [Payment, Credit Card]  \n",
       "1            [Travel, Car Service, Ride Share]  \n",
       "2                            [Transfer, Debit]  \n",
       "3                          [Transfer, Deposit]  \n",
       "4       [Recreation, Gyms and Fitness Centers]  \n",
       "5     [Travel, Airlines and Aviation Services]  \n",
       "6                [Food and Drink, Restaurants]  \n",
       "7   [Food and Drink, Restaurants, Coffee Shop]  \n",
       "8                [Food and Drink, Restaurants]  \n",
       "9                           [Transfer, Credit]  \n",
       "10    [Travel, Airlines and Aviation Services]  \n",
       "11           [Travel, Car Service, Ride Share]  \n",
       "12               [Food and Drink, Restaurants]  \n",
       "13                                   [Payment]  \n",
       "14               [Food and Drink, Restaurants]  \n",
       "15                     [Shops, Sporting Goods]  \n",
       "16                      [Payment, Credit Card]  \n",
       "17           [Travel, Car Service, Ride Share]  "
      ]
     },
     "execution_count": 155,
     "metadata": {},
     "output_type": "execute_result"
    }
   ],
   "source": [
    "# YOUR CODE HERE\n",
    "transactions = transaction_response['transactions']\n",
    "data_df = pd.DataFrame(transactions)[['date', 'name', 'amount', 'category']]\n",
    "data_df"
   ]
  },
  {
   "cell_type": "markdown",
   "metadata": {},
   "source": [
    "### 4. Convert the data types to the appropriate types \n",
    "\n",
    "(i.e. datetimeindex for the date and float for the amount)"
   ]
  },
  {
   "cell_type": "code",
   "execution_count": 156,
   "metadata": {},
   "outputs": [
    {
     "data": {
      "text/html": [
       "<div>\n",
       "<style scoped>\n",
       "    .dataframe tbody tr th:only-of-type {\n",
       "        vertical-align: middle;\n",
       "    }\n",
       "\n",
       "    .dataframe tbody tr th {\n",
       "        vertical-align: top;\n",
       "    }\n",
       "\n",
       "    .dataframe thead th {\n",
       "        text-align: right;\n",
       "    }\n",
       "</style>\n",
       "<table border=\"1\" class=\"dataframe\">\n",
       "  <thead>\n",
       "    <tr style=\"text-align: right;\">\n",
       "      <th></th>\n",
       "      <th>name</th>\n",
       "      <th>amount</th>\n",
       "      <th>category</th>\n",
       "    </tr>\n",
       "    <tr>\n",
       "      <th>date</th>\n",
       "      <th></th>\n",
       "      <th></th>\n",
       "      <th></th>\n",
       "    </tr>\n",
       "  </thead>\n",
       "  <tbody>\n",
       "    <tr>\n",
       "      <td>2020-01-16</td>\n",
       "      <td>CREDIT CARD 3333 PAYMENT *//</td>\n",
       "      <td>25.00</td>\n",
       "      <td>Payment, Credit Card</td>\n",
       "    </tr>\n",
       "    <tr>\n",
       "      <td>2020-01-16</td>\n",
       "      <td>Uber 063015 SF**POOL**</td>\n",
       "      <td>5.40</td>\n",
       "      <td>Travel, Car Service, Ride Share</td>\n",
       "    </tr>\n",
       "    <tr>\n",
       "      <td>2020-01-15</td>\n",
       "      <td>ACH Electronic CreditGUSTO PAY 123456</td>\n",
       "      <td>5850.00</td>\n",
       "      <td>Transfer, Debit</td>\n",
       "    </tr>\n",
       "    <tr>\n",
       "      <td>2020-01-15</td>\n",
       "      <td>CD DEPOSIT .INITIAL.</td>\n",
       "      <td>1000.00</td>\n",
       "      <td>Transfer, Deposit</td>\n",
       "    </tr>\n",
       "    <tr>\n",
       "      <td>2020-01-14</td>\n",
       "      <td>Touchstone Climbing</td>\n",
       "      <td>78.50</td>\n",
       "      <td>Recreation, Gyms and Fitness Centers</td>\n",
       "    </tr>\n",
       "    <tr>\n",
       "      <td>2020-01-14</td>\n",
       "      <td>United Airlines</td>\n",
       "      <td>-500.00</td>\n",
       "      <td>Travel, Airlines and Aviation Services</td>\n",
       "    </tr>\n",
       "    <tr>\n",
       "      <td>2020-01-13</td>\n",
       "      <td>McDonald's</td>\n",
       "      <td>12.00</td>\n",
       "      <td>Food and Drink, Restaurants</td>\n",
       "    </tr>\n",
       "    <tr>\n",
       "      <td>2020-01-13</td>\n",
       "      <td>Starbucks</td>\n",
       "      <td>4.33</td>\n",
       "      <td>Food and Drink, Restaurants, Coffee Shop</td>\n",
       "    </tr>\n",
       "    <tr>\n",
       "      <td>2020-01-12</td>\n",
       "      <td>SparkFun</td>\n",
       "      <td>89.40</td>\n",
       "      <td>Food and Drink, Restaurants</td>\n",
       "    </tr>\n",
       "    <tr>\n",
       "      <td>2020-01-11</td>\n",
       "      <td>INTRST PYMNT</td>\n",
       "      <td>-4.22</td>\n",
       "      <td>Transfer, Credit</td>\n",
       "    </tr>\n",
       "    <tr>\n",
       "      <td>2020-01-01</td>\n",
       "      <td>United Airlines</td>\n",
       "      <td>500.00</td>\n",
       "      <td>Travel, Airlines and Aviation Services</td>\n",
       "    </tr>\n",
       "    <tr>\n",
       "      <td>2019-12-30</td>\n",
       "      <td>Uber 072515 SF**POOL**</td>\n",
       "      <td>6.33</td>\n",
       "      <td>Travel, Car Service, Ride Share</td>\n",
       "    </tr>\n",
       "    <tr>\n",
       "      <td>2019-12-27</td>\n",
       "      <td>Tectra Inc</td>\n",
       "      <td>500.00</td>\n",
       "      <td>Food and Drink, Restaurants</td>\n",
       "    </tr>\n",
       "    <tr>\n",
       "      <td>2019-12-26</td>\n",
       "      <td>AUTOMATIC PAYMENT - THANK</td>\n",
       "      <td>2078.50</td>\n",
       "      <td>Payment</td>\n",
       "    </tr>\n",
       "    <tr>\n",
       "      <td>2019-12-26</td>\n",
       "      <td>KFC</td>\n",
       "      <td>500.00</td>\n",
       "      <td>Food and Drink, Restaurants</td>\n",
       "    </tr>\n",
       "    <tr>\n",
       "      <td>2019-12-26</td>\n",
       "      <td>Madison Bicycle Shop</td>\n",
       "      <td>500.00</td>\n",
       "      <td>Shops, Sporting Goods</td>\n",
       "    </tr>\n",
       "    <tr>\n",
       "      <td>2019-12-17</td>\n",
       "      <td>CREDIT CARD 3333 PAYMENT *//</td>\n",
       "      <td>25.00</td>\n",
       "      <td>Payment, Credit Card</td>\n",
       "    </tr>\n",
       "    <tr>\n",
       "      <td>2019-12-17</td>\n",
       "      <td>Uber 063015 SF**POOL**</td>\n",
       "      <td>5.40</td>\n",
       "      <td>Travel, Car Service, Ride Share</td>\n",
       "    </tr>\n",
       "  </tbody>\n",
       "</table>\n",
       "</div>"
      ],
      "text/plain": [
       "                                             name   amount  \\\n",
       "date                                                         \n",
       "2020-01-16           CREDIT CARD 3333 PAYMENT *//    25.00   \n",
       "2020-01-16                 Uber 063015 SF**POOL**     5.40   \n",
       "2020-01-15  ACH Electronic CreditGUSTO PAY 123456  5850.00   \n",
       "2020-01-15                   CD DEPOSIT .INITIAL.  1000.00   \n",
       "2020-01-14                    Touchstone Climbing    78.50   \n",
       "2020-01-14                        United Airlines  -500.00   \n",
       "2020-01-13                             McDonald's    12.00   \n",
       "2020-01-13                              Starbucks     4.33   \n",
       "2020-01-12                               SparkFun    89.40   \n",
       "2020-01-11                           INTRST PYMNT    -4.22   \n",
       "2020-01-01                        United Airlines   500.00   \n",
       "2019-12-30                 Uber 072515 SF**POOL**     6.33   \n",
       "2019-12-27                             Tectra Inc   500.00   \n",
       "2019-12-26              AUTOMATIC PAYMENT - THANK  2078.50   \n",
       "2019-12-26                                    KFC   500.00   \n",
       "2019-12-26                   Madison Bicycle Shop   500.00   \n",
       "2019-12-17           CREDIT CARD 3333 PAYMENT *//    25.00   \n",
       "2019-12-17                 Uber 063015 SF**POOL**     5.40   \n",
       "\n",
       "                                            category  \n",
       "date                                                  \n",
       "2020-01-16                      Payment, Credit Card  \n",
       "2020-01-16           Travel, Car Service, Ride Share  \n",
       "2020-01-15                           Transfer, Debit  \n",
       "2020-01-15                         Transfer, Deposit  \n",
       "2020-01-14      Recreation, Gyms and Fitness Centers  \n",
       "2020-01-14    Travel, Airlines and Aviation Services  \n",
       "2020-01-13               Food and Drink, Restaurants  \n",
       "2020-01-13  Food and Drink, Restaurants, Coffee Shop  \n",
       "2020-01-12               Food and Drink, Restaurants  \n",
       "2020-01-11                          Transfer, Credit  \n",
       "2020-01-01    Travel, Airlines and Aviation Services  \n",
       "2019-12-30           Travel, Car Service, Ride Share  \n",
       "2019-12-27               Food and Drink, Restaurants  \n",
       "2019-12-26                                   Payment  \n",
       "2019-12-26               Food and Drink, Restaurants  \n",
       "2019-12-26                     Shops, Sporting Goods  \n",
       "2019-12-17                      Payment, Credit Card  \n",
       "2019-12-17           Travel, Car Service, Ride Share  "
      ]
     },
     "execution_count": 156,
     "metadata": {},
     "output_type": "execute_result"
    }
   ],
   "source": [
    "# YOUR CODE HERE\n",
    "\n",
    "data_df['amount'] = data_df['amount'].astype('float')\n",
    "data_df[\"date\"] = pd.DatetimeIndex(data_df[\"date\"])\n",
    "data_df.set_index(\"date\", inplace=True)\n",
    "\n",
    "data_df['category']=data_df.category.apply(', '.join)\n",
    "#data_df.dtypes\n",
    "data_df"
   ]
  },
  {
   "cell_type": "markdown",
   "metadata": {},
   "source": [
    "---"
   ]
  },
  {
   "cell_type": "markdown",
   "metadata": {},
   "source": [
    "# Income Analysis with Plaid\n",
    "\n",
    "In this section, you will use the Plaid Sandbox to complete the following:\n",
    "1. Determine the previous year's gross income and print the results\n",
    "2. Determine the current monthly income and print the results\n",
    "3. Determine the projected yearly income and print the results"
   ]
  },
  {
   "cell_type": "code",
   "execution_count": 157,
   "metadata": {},
   "outputs": [
    {
     "name": "stdout",
     "output_type": "stream",
     "text": [
      "Last Year Gross Income  : 7893\n",
      "Current Monthly Income  : 500\n",
      "Projected Yearly Income : 7389\n"
     ]
    }
   ],
   "source": [
    "# YOUR CODE HERE\n",
    "income = client.Income.get(access_token)['income']\n",
    "\n",
    "gross_income =income['last_year_income_before_tax']\n",
    "monthly_income = income['income_streams'][0]['monthly_income']\n",
    "projected_income = income['projected_yearly_income_before_tax']\n",
    "\n",
    "print(f'Last Year Gross Income  : {gross_income}')\n",
    "print(f'Current Monthly Income  : {monthly_income}')\n",
    "print(f'Projected Yearly Income : {projected_income}')\n",
    "\n",
    "#income                       "
   ]
  },
  {
   "cell_type": "markdown",
   "metadata": {},
   "source": [
    "---"
   ]
  },
  {
   "cell_type": "markdown",
   "metadata": {},
   "source": [
    "# Budget Analysis\n",
    "In this section, you will use the transactions DataFrame to analyze the customer's budget\n",
    "\n",
    "1. Calculate the total spending per category and print the results (Hint: groupby or count transactions per category)\n",
    "2. Generate a bar chart with the number of transactions for each category \n",
    "3. Calculate the expenses per month\n",
    "4. Plot the total expenses per month"
   ]
  },
  {
   "cell_type": "markdown",
   "metadata": {},
   "source": [
    "### Calculate the expenses per category"
   ]
  },
  {
   "cell_type": "code",
   "execution_count": 158,
   "metadata": {},
   "outputs": [
    {
     "data": {
      "text/html": [
       "<div>\n",
       "<style scoped>\n",
       "    .dataframe tbody tr th:only-of-type {\n",
       "        vertical-align: middle;\n",
       "    }\n",
       "\n",
       "    .dataframe tbody tr th {\n",
       "        vertical-align: top;\n",
       "    }\n",
       "\n",
       "    .dataframe thead th {\n",
       "        text-align: right;\n",
       "    }\n",
       "</style>\n",
       "<table border=\"1\" class=\"dataframe\">\n",
       "  <thead>\n",
       "    <tr style=\"text-align: right;\">\n",
       "      <th></th>\n",
       "      <th>amount</th>\n",
       "    </tr>\n",
       "    <tr>\n",
       "      <th>category</th>\n",
       "      <th></th>\n",
       "    </tr>\n",
       "  </thead>\n",
       "  <tbody>\n",
       "    <tr>\n",
       "      <td>Food and Drink, Restaurants</td>\n",
       "      <td>1101.40</td>\n",
       "    </tr>\n",
       "    <tr>\n",
       "      <td>Food and Drink, Restaurants, Coffee Shop</td>\n",
       "      <td>4.33</td>\n",
       "    </tr>\n",
       "    <tr>\n",
       "      <td>Payment</td>\n",
       "      <td>2078.50</td>\n",
       "    </tr>\n",
       "    <tr>\n",
       "      <td>Payment, Credit Card</td>\n",
       "      <td>50.00</td>\n",
       "    </tr>\n",
       "    <tr>\n",
       "      <td>Recreation, Gyms and Fitness Centers</td>\n",
       "      <td>78.50</td>\n",
       "    </tr>\n",
       "    <tr>\n",
       "      <td>Shops, Sporting Goods</td>\n",
       "      <td>500.00</td>\n",
       "    </tr>\n",
       "    <tr>\n",
       "      <td>Transfer, Credit</td>\n",
       "      <td>-4.22</td>\n",
       "    </tr>\n",
       "    <tr>\n",
       "      <td>Transfer, Debit</td>\n",
       "      <td>5850.00</td>\n",
       "    </tr>\n",
       "    <tr>\n",
       "      <td>Transfer, Deposit</td>\n",
       "      <td>1000.00</td>\n",
       "    </tr>\n",
       "    <tr>\n",
       "      <td>Travel, Airlines and Aviation Services</td>\n",
       "      <td>0.00</td>\n",
       "    </tr>\n",
       "    <tr>\n",
       "      <td>Travel, Car Service, Ride Share</td>\n",
       "      <td>17.13</td>\n",
       "    </tr>\n",
       "  </tbody>\n",
       "</table>\n",
       "</div>"
      ],
      "text/plain": [
       "                                           amount\n",
       "category                                         \n",
       "Food and Drink, Restaurants               1101.40\n",
       "Food and Drink, Restaurants, Coffee Shop     4.33\n",
       "Payment                                   2078.50\n",
       "Payment, Credit Card                        50.00\n",
       "Recreation, Gyms and Fitness Centers        78.50\n",
       "Shops, Sporting Goods                      500.00\n",
       "Transfer, Credit                            -4.22\n",
       "Transfer, Debit                           5850.00\n",
       "Transfer, Deposit                         1000.00\n",
       "Travel, Airlines and Aviation Services       0.00\n",
       "Travel, Car Service, Ride Share             17.13"
      ]
     },
     "execution_count": 158,
     "metadata": {},
     "output_type": "execute_result"
    }
   ],
   "source": [
    "# YOUR CODE HERE\n",
    "data_df.groupby('category').sum()"
   ]
  },
  {
   "cell_type": "markdown",
   "metadata": {},
   "source": [
    "### Calculate the expenses per month"
   ]
  },
  {
   "cell_type": "code",
   "execution_count": 160,
   "metadata": {},
   "outputs": [
    {
     "data": {
      "text/html": [
       "<div>\n",
       "<style scoped>\n",
       "    .dataframe tbody tr th:only-of-type {\n",
       "        vertical-align: middle;\n",
       "    }\n",
       "\n",
       "    .dataframe tbody tr th {\n",
       "        vertical-align: top;\n",
       "    }\n",
       "\n",
       "    .dataframe thead th {\n",
       "        text-align: right;\n",
       "    }\n",
       "</style>\n",
       "<table border=\"1\" class=\"dataframe\">\n",
       "  <thead>\n",
       "    <tr style=\"text-align: right;\">\n",
       "      <th></th>\n",
       "      <th></th>\n",
       "      <th>amount</th>\n",
       "    </tr>\n",
       "    <tr>\n",
       "      <th>date</th>\n",
       "      <th>date</th>\n",
       "      <th></th>\n",
       "    </tr>\n",
       "  </thead>\n",
       "  <tbody>\n",
       "    <tr>\n",
       "      <td>1</td>\n",
       "      <td>2020</td>\n",
       "      <td>7060.41</td>\n",
       "    </tr>\n",
       "    <tr>\n",
       "      <td>12</td>\n",
       "      <td>2019</td>\n",
       "      <td>3615.23</td>\n",
       "    </tr>\n",
       "  </tbody>\n",
       "</table>\n",
       "</div>"
      ],
      "text/plain": [
       "            amount\n",
       "date date         \n",
       "1    2020  7060.41\n",
       "12   2019  3615.23"
      ]
     },
     "execution_count": 160,
     "metadata": {},
     "output_type": "execute_result"
    }
   ],
   "source": [
    "# YOUR CODE HERE\n",
    "monthly_expenses = data_df.groupby(by=[data_df.index.month, data_df.index.year]).sum()\n",
    "monthly_expenses"
   ]
  },
  {
   "cell_type": "code",
   "execution_count": null,
   "metadata": {},
   "outputs": [],
   "source": []
  }
 ],
 "metadata": {
  "kernel_info": {
   "name": "dev"
  },
  "kernelspec": {
   "display_name": "Python 3",
   "language": "python",
   "name": "python3"
  },
  "language_info": {
   "codemirror_mode": {
    "name": "ipython",
    "version": 3
   },
   "file_extension": ".py",
   "mimetype": "text/x-python",
   "name": "python",
   "nbconvert_exporter": "python",
   "pygments_lexer": "ipython3",
   "version": "3.7.4"
  },
  "nteract": {
   "version": "0.12.3"
  }
 },
 "nbformat": 4,
 "nbformat_minor": 4
}
